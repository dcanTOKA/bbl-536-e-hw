{
 "cells": [
  {
   "cell_type": "code",
   "execution_count": 1,
   "metadata": {},
   "outputs": [],
   "source": [
    "import pandas as pd\n",
    "import numpy as np\n",
    "import matplotlib.pyplot as plt\n",
    "from sklearn import preprocessing\n",
    "from sklearn.model_selection import train_test_split\n",
    "from sklearn.linear_model import Ridge, RidgeCV, Lasso, LassoCV\n",
    "from sklearn.metrics import mean_squared_error\n",
    "from sklearn.model_selection import KFold\n",
    "from sklearn.model_selection import cross_validate\n",
    "from sklearn.model_selection import RepeatedKFold\n",
    "from sklearn.model_selection import LeaveOneOut\n",
    "from sklearn.model_selection import cross_val_score\n",
    "from sklearn.ensemble import RandomForestRegressor\n",
    "from sklearn.model_selection import GridSearchCV"
   ]
  },
  {
   "cell_type": "code",
   "execution_count": 2,
   "metadata": {},
   "outputs": [],
   "source": [
    "def problem1_task1():\n",
    "    \"\"\"\n",
    "        Predictive models on the estimation of energy performance of residential buildings.\n",
    "\n",
    "            Parameters:\n",
    "\n",
    "            Features: X\n",
    "\n",
    "                X1: relative compactness\n",
    "                X2: surface area\n",
    "                X3: wall area\n",
    "                X4: roof area\n",
    "                X5: overall height\n",
    "                X6: orientation\n",
    "                X7: glazing area\n",
    "                X8: glazing area distribution\n",
    "\n",
    "            Targets: y\n",
    "\n",
    "                Y1: heating load (HL)\n",
    "                Y2: cooling load (CL)\n",
    "    \"\"\"\n",
    "    # Get data from sheet\n",
    "    df = pd.read_excel('data/ENB2012_data.xlsx')\n",
    "\n",
    "    features = ['X1', 'X2', 'X3', 'X4', 'X5', 'X6', 'X7', 'X8']\n",
    "    targets = ['Y1', 'Y2']\n",
    "\n",
    "    X = df[features]\n",
    "    y = df[targets]\n",
    "    \n",
    "    # Scaling and normalizing the data\n",
    "    X_normalized = preprocessing.MinMaxScaler()\n",
    "    alpha_values = [0.001,0.01,0.1, 1.0, 10.0]\n",
    "    regr_cv = RidgeCV(alphas=alpha_values)\n",
    "    model_cv = regr_cv.fit(X_normalized, y)\n",
    "    optimum_alpha = model_cv.alpha_\n",
    "    print(f\"Optimum alpha : {optimum_alpha}\")\n",
    "    \n",
    "    \n",
    "    ridge_model = Ridge(normalize = True)\n",
    "\n",
    "    scoring_metrics = ['neg_mean_squared_error', 'neg_mean_absolute_error']\n",
    "\n",
    "    print(\"---------------------------------------------------\")\n",
    "    print(f\"Alpha : {optimum_alpha}\")\n",
    "    ridge_model.alpha = optimum_alpha\n",
    "    # prepare the cross-validation procedure\n",
    "    ridge_cv = RepeatedKFold(n_splits=10, n_repeats=10, random_state=1)\n",
    "    # evaluate model\n",
    "    scores = cross_validate(ridge_model, X, y, scoring=scoring_metrics, cv=ridge_cv, n_jobs=-1)\n",
    "    ridge_MSE_means = (np.mean(scores['test_neg_mean_squared_error']))\n",
    "    ridge_MAE_means = (np.mean(scores['test_neg_mean_absolute_error']))\n",
    "    ridge_MSE_stds = (np.std(scores['test_neg_mean_squared_error']))\n",
    "    ridge_MAE_stds = (np.std(scores['test_neg_mean_absolute_error']))\n",
    "    # report performance\n",
    "    print('MSE (mean) : %.3f (std) : (%.3f)' % (ridge_MSE_means, ridge_MSE_stds))\n",
    "    print('MAE (mean) : %.3f (std) : (%.3f)' % (ridge_MAE_means, ridge_MAE_stds))\n",
    "    print(\"****************************************************\")\n"
   ]
  },
  {
   "cell_type": "code",
   "execution_count": 32,
   "metadata": {},
   "outputs": [],
   "source": [
    "def problem1_task2():\n",
    "    \"\"\"\n",
    "        Predictive models on the estimation of energy performance of residential buildings.\n",
    "\n",
    "            Parameters:\n",
    "\n",
    "            Features: X\n",
    "\n",
    "                X1: relative compactness\n",
    "                X2: surface area\n",
    "                X3: wall area\n",
    "                X4: roof area\n",
    "                X5: overall height\n",
    "                X6: orientation\n",
    "                X7: glazing area\n",
    "                X8: glazing area distribution\n",
    "\n",
    "            Targets: y\n",
    "\n",
    "                Y1: heating load (HL)\n",
    "                Y2: cooling load (CL)\n",
    "    \"\"\"\n",
    "    # Get data from sheet\n",
    "    df = pd.read_excel('data/ENB2012_data.xlsx')\n",
    "\n",
    "    features = ['X1', 'X2', 'X3', 'X4', 'X5', 'X6', 'X7', 'X8']\n",
    "    targets = ['Y1', 'Y2']\n",
    "\n",
    "    X = df[features]\n",
    "    y = df[targets]\n",
    "    \n",
    "    # Scaling and normalizing the data\n",
    "    min_max_scaler = preprocessing.MinMaxScaler()\n",
    "    X_normalized = min_max_scaler.fit_transform(X)\n",
    "    \n",
    "    scoring_metrics = ['neg_mean_squared_error', 'neg_mean_absolute_error']\n",
    "    \n",
    "        # Create the parameter grid based on the results of random search \n",
    "    param_grid = {\n",
    "        'max_depth': [50, 150, 250],\n",
    "        'min_samples_leaf': [1, 2, 3],\n",
    "        'min_samples_split': [2, 3],\n",
    "        'n_estimators': [10, 50, 100, 250, 500]\n",
    "    }\n",
    "    # Create a based model\n",
    "    rf_model = RandomForestRegressor()\n",
    "    # evaluate the model\n",
    "    rfr_cv = RepeatedKFold(n_splits=10, n_repeats=10, random_state=1)\n",
    "    # Instantiate the grid search model\n",
    "    grid_search = GridSearchCV(estimator = rf_model, param_grid = param_grid, scoring=scoring_metrics,\n",
    "                              cv = rfr_cv, n_jobs = -1, verbose = 2, refit=callable)\n",
    "    # Fit the grid search to the data for y1\n",
    "    print(\"Grid result for X normalized and Y1\")\n",
    "    grid_results_y1 = grid_search.fit(X_normalized, y['Y1'])\n",
    "    print(grid_results_y1.best_params_)\n",
    "    results_df_y1 = pd.DataFrame(grid_results_y1.cv_results_)\n",
    "    mse_mean_y1 = np.mean(results_df_y1['mean_test_neg_mean_squared_error'].to_numpy())\n",
    "    mse_std_y1 = np.std(results_df_y1['mean_test_neg_mean_squared_error'].to_numpy())\n",
    "    mae_mean_y1 = np.mean(results_df_y1['mean_test_neg_mean_absolute_error'].to_numpy())\n",
    "    mae_std_y1 = np.std(results_df_y1['mean_test_neg_mean_absolute_error'].to_numpy())\n",
    "    score_results_y1 = pd.DataFrame(np.array([mse_mean_y1,mse_std_y1, mae_mean_y1, mae_std_y1]).reshape(2,2),['MSE','MAE'], ['Mean', 'Std'])\n",
    "    print(score_results_y1)\n",
    "    print(\"---------------------------------------------------\")\n",
    "    # Fit the grid search to the data for y2\n",
    "    print(\"Grid result for X normalized and Y2\")\n",
    "    grid_results_y2 = grid_search.fit(X_normalized, y['Y2'])\n",
    "    print(grid_results_y2.best_params_)\n",
    "    results_df_y2 = pd.DataFrame(grid_results_y2.cv_results_)\n",
    "    mse_mean_y2 = np.mean(results_df_y2['mean_test_neg_mean_squared_error'].to_numpy())\n",
    "    mse_std_y2 = np.std(results_df_y2['mean_test_neg_mean_squared_error'].to_numpy())\n",
    "    mae_mean_y2 = np.mean(results_df_y2['mean_test_neg_mean_absolute_error'].to_numpy())\n",
    "    mae_std_y2 = np.std(results_df_y2['mean_test_neg_mean_absolute_error'].to_numpy())\n",
    "    score_results_y2 = pd.DataFrame(np.array([mse_mean_y2,mse_std_y2, mae_mean_y2, mae_std_y2]).reshape(2,2),['MSE','MAE'], ['Mean', 'Std'])\n",
    "    print(print(score_results_y2))\n",
    "    print(\"****************************************************\")"
   ]
  },
  {
   "cell_type": "code",
   "execution_count": 3,
   "metadata": {},
   "outputs": [
    {
     "name": "stdout",
     "output_type": "stream",
     "text": [
      "Optimum alpha : 0.001\n",
      "---------------------------------------------------\n",
      "Alpha : 0.001\n",
      "MSE (mean) : -9.536 (std) : (1.888)\n",
      "MAE (mean) : -2.179 (std) : (0.232)\n",
      "****************************************************\n"
     ]
    }
   ],
   "source": [
    "problem1_task1()"
   ]
  },
  {
   "cell_type": "code",
   "execution_count": 33,
   "metadata": {},
   "outputs": [
    {
     "name": "stdout",
     "output_type": "stream",
     "text": [
      "Grid result for X normalized and Y1\n",
      "Fitting 100 folds for each of 90 candidates, totalling 9000 fits\n"
     ]
    },
    {
     "name": "stderr",
     "output_type": "stream",
     "text": [
      "[Parallel(n_jobs=-1)]: Using backend LokyBackend with 8 concurrent workers.\n",
      "[Parallel(n_jobs=-1)]: Done  25 tasks      | elapsed:    1.6s\n",
      "/Users/testinium/opt/anaconda3/lib/python3.8/site-packages/joblib/externals/loky/process_executor.py:688: UserWarning: A worker stopped while some jobs were given to the executor. This can be caused by a too short worker timeout or by a memory leak.\n",
      "  warnings.warn(\n",
      "[Parallel(n_jobs=-1)]: Done 434 tasks      | elapsed:   17.4s\n",
      "[Parallel(n_jobs=-1)]: Done 925 tasks      | elapsed:   38.8s\n",
      "[Parallel(n_jobs=-1)]: Done 1496 tasks      | elapsed:  1.2min\n",
      "[Parallel(n_jobs=-1)]: Done 2437 tasks      | elapsed:  1.8min\n",
      "[Parallel(n_jobs=-1)]: Done 3458 tasks      | elapsed:  2.7min\n",
      "[Parallel(n_jobs=-1)]: Done 4505 tasks      | elapsed:  3.7min\n",
      "[Parallel(n_jobs=-1)]: Done 5920 tasks      | elapsed:  4.8min\n",
      "[Parallel(n_jobs=-1)]: Done 7417 tasks      | elapsed:  6.3min\n",
      "[Parallel(n_jobs=-1)]: Done 9000 out of 9000 | elapsed:  7.8min finished\n",
      "[Parallel(n_jobs=-1)]: Using backend LokyBackend with 8 concurrent workers.\n"
     ]
    },
    {
     "name": "stdout",
     "output_type": "stream",
     "text": [
      "{'max_depth': 50, 'min_samples_leaf': 1, 'min_samples_split': 2, 'n_estimators': 10}\n",
      "         Mean       Std\n",
      "MSE -0.292673  0.059189\n",
      "MAE -0.352472  0.026939\n",
      "---------------------------------------------------\n",
      "Grid result for X normalized and Y2\n",
      "Fitting 100 folds for each of 90 candidates, totalling 9000 fits\n"
     ]
    },
    {
     "name": "stderr",
     "output_type": "stream",
     "text": [
      "[Parallel(n_jobs=-1)]: Done  34 tasks      | elapsed:    0.2s\n",
      "/Users/testinium/opt/anaconda3/lib/python3.8/site-packages/joblib/externals/loky/process_executor.py:688: UserWarning: A worker stopped while some jobs were given to the executor. This can be caused by a too short worker timeout or by a memory leak.\n",
      "  warnings.warn(\n",
      "[Parallel(n_jobs=-1)]: Done 434 tasks      | elapsed:   23.7s\n",
      "[Parallel(n_jobs=-1)]: Done 893 tasks      | elapsed:   46.0s\n",
      "[Parallel(n_jobs=-1)]: Done 1432 tasks      | elapsed:  1.3min\n",
      "[Parallel(n_jobs=-1)]: Done 2296 tasks      | elapsed:  2.0min\n",
      "[Parallel(n_jobs=-1)]: Done 3152 tasks      | elapsed:  2.8min\n",
      "[Parallel(n_jobs=-1)]: Done 4401 tasks      | elapsed:  3.9min\n",
      "[Parallel(n_jobs=-1)]: Done 5563 tasks      | elapsed:  5.0min\n",
      "[Parallel(n_jobs=-1)]: Done 7017 tasks      | elapsed:  6.3min\n",
      "[Parallel(n_jobs=-1)]: Done 8906 tasks      | elapsed:  7.8min\n"
     ]
    },
    {
     "name": "stdout",
     "output_type": "stream",
     "text": [
      "{'max_depth': 50, 'min_samples_leaf': 1, 'min_samples_split': 2, 'n_estimators': 10}\n",
      "         Mean       Std\n",
      "MSE -3.138312  0.291896\n",
      "MAE -1.105891  0.065733\n",
      "None\n",
      "****************************************************\n"
     ]
    },
    {
     "name": "stderr",
     "output_type": "stream",
     "text": [
      "[Parallel(n_jobs=-1)]: Done 9000 out of 9000 | elapsed:  8.0min finished\n"
     ]
    }
   ],
   "source": [
    "problem1_task2()"
   ]
  },
  {
   "cell_type": "code",
   "execution_count": null,
   "metadata": {},
   "outputs": [],
   "source": []
  }
 ],
 "metadata": {
  "kernelspec": {
   "display_name": "Python 3",
   "language": "python",
   "name": "python3"
  },
  "language_info": {
   "codemirror_mode": {
    "name": "ipython",
    "version": 3
   },
   "file_extension": ".py",
   "mimetype": "text/x-python",
   "name": "python",
   "nbconvert_exporter": "python",
   "pygments_lexer": "ipython3",
   "version": "3.8.5"
  }
 },
 "nbformat": 4,
 "nbformat_minor": 4
}
