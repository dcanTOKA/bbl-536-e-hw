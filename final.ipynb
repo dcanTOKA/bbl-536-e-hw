{
 "cells": [
  {
   "cell_type": "code",
   "execution_count": 16,
   "metadata": {},
   "outputs": [],
   "source": [
    "import pandas as pd\n",
    "import numpy as np\n",
    "import matplotlib.pyplot as plt\n",
    "from sklearn.neural_network import MLPClassifier\n",
    "from sklearn import preprocessing\n",
    "from sklearn.model_selection import train_test_split\n",
    "from sklearn.linear_model import Ridge, RidgeCV, Lasso, LassoCV, LogisticRegression\n",
    "from sklearn.metrics import mean_squared_error, classification_report, accuracy_score, make_scorer\n",
    "from sklearn.model_selection import KFold\n",
    "from sklearn.model_selection import cross_validate\n",
    "from sklearn.model_selection import RepeatedKFold\n",
    "from sklearn.model_selection import LeaveOneOut\n",
    "from sklearn.model_selection import cross_val_score, cross_val_predict\n",
    "from sklearn.ensemble import RandomForestClassifier\n",
    "from sklearn.model_selection import GridSearchCV"
   ]
  },
  {
   "cell_type": "code",
   "execution_count": 2,
   "metadata": {},
   "outputs": [],
   "source": [
    "def problem1_task1():\n",
    "    \"\"\"\n",
    "        Predictive models on the estimation of energy performance of residential buildings.\n",
    "\n",
    "            Parameters:\n",
    "\n",
    "            Features: X\n",
    "\n",
    "                X1: relative compactness\n",
    "                X2: surface area\n",
    "                X3: wall area\n",
    "                X4: roof area\n",
    "                X5: overall height\n",
    "                X6: orientation\n",
    "                X7: glazing area\n",
    "                X8: glazing area distribution\n",
    "\n",
    "            Targets: y\n",
    "\n",
    "                Y1: heating load (HL)\n",
    "                Y2: cooling load (CL)\n",
    "    \"\"\"\n",
    "    # Get data from sheet\n",
    "    df = pd.read_excel('data/ENB2012_data.xlsx')\n",
    "\n",
    "    features = ['X1', 'X2', 'X3', 'X4', 'X5', 'X6', 'X7', 'X8']\n",
    "    targets = ['Y1', 'Y2']\n",
    "\n",
    "    X = df[features]\n",
    "    y = df[targets]\n",
    "    \n",
    "    \n",
    "    # Scaling and normalizing the data\n",
    "    min_max_scaler = preprocessing.MinMaxScaler()\n",
    "    X_normalized = min_max_scaler.fit_transform(X)\n",
    "\n",
    "    alpha_values = [0.001,0.01,0.1, 1.0, 10.0]\n",
    "    regr_cv = RidgeCV(alphas=alpha_values)\n",
    "    model_cv = regr_cv.fit(X_normalized, y)\n",
    "    optimum_alpha = model_cv.alpha_\n",
    "    print(f\"Optimum alpha : {optimum_alpha}\")\n",
    "    \n",
    "    \n",
    "    ridge_model = Ridge(normalize = True)\n",
    "\n",
    "    scoring_metrics = ['neg_mean_squared_error', 'neg_mean_absolute_error']\n",
    "\n",
    "    print(\"---------------------------------------------------\")\n",
    "    print(f\"Alpha : {optimum_alpha}\")\n",
    "    ridge_model.alpha = optimum_alpha\n",
    "    # prepare the cross-validation procedure\n",
    "    ridge_cv = RepeatedKFold(n_splits=10, n_repeats=10, random_state=1)\n",
    "    # evaluate model\n",
    "    scores = cross_validate(ridge_model, X, y, scoring=scoring_metrics, cv=ridge_cv, n_jobs=-1)\n",
    "    ridge_MSE_means = (np.mean(scores['test_neg_mean_squared_error']))\n",
    "    ridge_MAE_means = (np.mean(scores['test_neg_mean_absolute_error']))\n",
    "    ridge_MSE_stds = (np.std(scores['test_neg_mean_squared_error']))\n",
    "    ridge_MAE_stds = (np.std(scores['test_neg_mean_absolute_error']))\n",
    "    # report performance\n",
    "    print('MSE (mean) : %.3f (std) : (%.3f)' % (ridge_MSE_means, ridge_MSE_stds))\n",
    "    print('MAE (mean) : %.3f (std) : (%.3f)' % (ridge_MAE_means, ridge_MAE_stds))\n",
    "    print(\"****************************************************\")\n"
   ]
  },
  {
   "cell_type": "code",
   "execution_count": null,
   "metadata": {},
   "outputs": [],
   "source": [
    "def problem1_task2():\n",
    "    \"\"\"\n",
    "        Predictive models on the estimation of energy performance of residential buildings.\n",
    "\n",
    "            Parameters:\n",
    "\n",
    "            Features: X\n",
    "\n",
    "                X1: relative compactness\n",
    "                X2: surface area\n",
    "                X3: wall area\n",
    "                X4: roof area\n",
    "                X5: overall height\n",
    "                X6: orientation\n",
    "                X7: glazing area\n",
    "                X8: glazing area distribution\n",
    "\n",
    "            Targets: y\n",
    "\n",
    "                Y1: heating load (HL)\n",
    "                Y2: cooling load (CL)\n",
    "    \"\"\"\n",
    "    # Get data from sheet\n",
    "    df = pd.read_excel('data/ENB2012_data.xlsx')\n",
    "\n",
    "    features = ['X1', 'X2', 'X3', 'X4', 'X5', 'X6', 'X7', 'X8']\n",
    "    targets = ['Y1', 'Y2']\n",
    "\n",
    "    X = df[features]\n",
    "    y = df[targets]\n",
    "    \n",
    "    # Scaling and normalizing the data\n",
    "    min_max_scaler = preprocessing.MinMaxScaler()\n",
    "    X_normalized = min_max_scaler.fit_transform(X)\n",
    "    \n",
    "    scoring_metrics = ['neg_mean_squared_error', 'neg_mean_absolute_error']\n",
    "    \n",
    "        # Create the parameter grid based on the results of random search \n",
    "    param_grid = {\n",
    "        'max_depth': [50, 150, 250],\n",
    "        'min_samples_leaf': [1, 2, 3],\n",
    "        'min_samples_split': [2, 3],\n",
    "        'n_estimators': [10, 50, 100, 250, 500]\n",
    "    }\n",
    "    # Create a based model\n",
    "    rf_model = RandomForestRegressor()\n",
    "    # evaluate the model\n",
    "    rfr_cv = RepeatedKFold(n_splits=10, n_repeats=10, random_state=1)\n",
    "    # Instantiate the grid search model\n",
    "    grid_search = GridSearchCV(estimator = rf_model, param_grid = param_grid, scoring=scoring_metrics,\n",
    "                              cv = rfr_cv, n_jobs = -1, verbose = 2, refit=callable)\n",
    "    # Fit the grid search to the data for y1\n",
    "    print(\"Grid result for X normalized and Y1\")\n",
    "    grid_results_y1 = grid_search.fit(X_normalized, y['Y1'])\n",
    "    print(grid_results_y1.best_params_)\n",
    "    results_df_y1 = pd.DataFrame(grid_results_y1.cv_results_)\n",
    "    mse_mean_y1 = np.mean(results_df_y1['mean_test_neg_mean_squared_error'].to_numpy())\n",
    "    mse_std_y1 = np.std(results_df_y1['mean_test_neg_mean_squared_error'].to_numpy())\n",
    "    mae_mean_y1 = np.mean(results_df_y1['mean_test_neg_mean_absolute_error'].to_numpy())\n",
    "    mae_std_y1 = np.std(results_df_y1['mean_test_neg_mean_absolute_error'].to_numpy())\n",
    "    score_results_y1 = pd.DataFrame(np.array([mse_mean_y1,mse_std_y1, mae_mean_y1, mae_std_y1]).reshape(2,2),['MSE','MAE'], ['Mean', 'Std'])\n",
    "    print(score_results_y1)\n",
    "    print(\"---------------------------------------------------\")\n",
    "    # Fit the grid search to the data for y2\n",
    "    print(\"Grid result for X normalized and Y2\")\n",
    "    grid_results_y2 = grid_search.fit(X_normalized, y['Y2'])\n",
    "    print(grid_results_y2.best_params_)\n",
    "    results_df_y2 = pd.DataFrame(grid_results_y2.cv_results_)\n",
    "    mse_mean_y2 = np.mean(results_df_y2['mean_test_neg_mean_squared_error'].to_numpy())\n",
    "    mse_std_y2 = np.std(results_df_y2['mean_test_neg_mean_squared_error'].to_numpy())\n",
    "    mae_mean_y2 = np.mean(results_df_y2['mean_test_neg_mean_absolute_error'].to_numpy())\n",
    "    mae_std_y2 = np.std(results_df_y2['mean_test_neg_mean_absolute_error'].to_numpy())\n",
    "    score_results_y2 = pd.DataFrame(np.array([mse_mean_y2,mse_std_y2, mae_mean_y2, mae_std_y2]).reshape(2,2),['MSE','MAE'], ['Mean', 'Std'])\n",
    "    print(print(score_results_y2))\n",
    "    print(\"****************************************************\")"
   ]
  },
  {
   "cell_type": "code",
   "execution_count": 3,
   "metadata": {},
   "outputs": [
    {
     "name": "stdout",
     "output_type": "stream",
     "text": [
      "Optimum alpha : 0.01\n",
      "---------------------------------------------------\n",
      "Alpha : 0.01\n",
      "MSE (mean) : -9.699 (std) : (1.990)\n",
      "MAE (mean) : -2.199 (std) : (0.237)\n",
      "****************************************************\n"
     ]
    }
   ],
   "source": [
    "problem1_task1()"
   ]
  },
  {
   "cell_type": "code",
   "execution_count": null,
   "metadata": {},
   "outputs": [],
   "source": [
    "problem1_task2()"
   ]
  },
  {
   "cell_type": "code",
   "execution_count": 8,
   "metadata": {},
   "outputs": [],
   "source": [
    "def problem2_task1():\n",
    "    df = pd.read_csv(\"data/bank-additional-full.csv\",delimiter=';')\n",
    "    X = pd.get_dummies(data=df.iloc[:,:-1], drop_first=True)\n",
    "    y = pd.get_dummies(data=df['y'], drop_first=True)\n",
    "    # Scaling and normalizing the data\n",
    "    ss = preprocessing.StandardScaler()\n",
    "    X_scaled = ss.fit_transform(X)\n",
    "    c_space = np.logspace(-4, 4, 20)\n",
    "    \n",
    "    auc_scores = []\n",
    "\n",
    "    for c in c_space:\n",
    "        log_reg_model = LogisticRegression(C=c)\n",
    "        log_reg_cv = RepeatedKFold(n_splits=5, n_repeats=5, random_state=1)\n",
    "        score = cross_validate(log_reg_model, X_scaled, y, scoring='roc_auc', cv=log_reg_cv, n_jobs=-1)\n",
    "        auc_scores.append(np.mean(score['test_score']))\n",
    "\n",
    "        \n",
    "    idx = np.argmax(auc_scores)\n",
    "    print(f\"Best C : {c_space[idx]}\")   \n",
    "    fig, ax = plt.subplots()\n",
    "    ax.plot(c_space,auc_scores,marker = 'o')\n",
    "    ax.set_xscale('log')\n",
    "    # Set plot title and axes labels\n",
    "    ax.set(title = \"Logistic Regression Model\",\n",
    "           xlabel = \"C parameters\",\n",
    "           ylabel = \"Mean AUC Score\")\n",
    "    plt.grid()\n",
    "    plt.show()"
   ]
  },
  {
   "cell_type": "code",
   "execution_count": 33,
   "metadata": {},
   "outputs": [],
   "source": [
    "def problem2_task2():\n",
    "    df = pd.read_csv(\"data/bank-additional-full.csv\",delimiter=';')\n",
    "    X = pd.get_dummies(data=df.iloc[:,:-1], drop_first=True)\n",
    "    y = pd.get_dummies(data=df['y'], drop_first=True)\n",
    "    # Scaling and normalizing the data\n",
    "    ss = preprocessing.StandardScaler()\n",
    "    X_scaled = ss.fit_transform(X)\n",
    "    # Create the parameter grid based on the results of random search \n",
    "    param_grid = {\n",
    "        'max_depth': [50, 150, 250],\n",
    "        'min_samples_leaf': [1, 2, 3],\n",
    "        'min_samples_split': [2, 3],\n",
    "        'n_estimators': [10, 50, 100, 250, 500, 1000]\n",
    "    }\n",
    "    # Create a based model\n",
    "    rf_model = RandomForestClassifier()\n",
    "    # evaluate the model\n",
    "    rfr_cv = RepeatedKFold(n_splits=3, n_repeats=3, random_state=1)\n",
    "    # Instantiate the grid search model\n",
    "    grid_search = GridSearchCV(estimator = rf_model, param_grid = param_grid, scoring='roc_auc',\n",
    "                              cv = rfr_cv, n_jobs = -1, verbose = 2, refit=callable)\n",
    "    # Fit the grid search to the data for y1\n",
    "    print(\"Grid result for X normalized and Y1\")\n",
    "    grid_results = grid_search.fit(X_scaled, y.to_numpy().ravel())\n",
    "    print(f\"Best params : {grid_results.best_params_}\")\n",
    "    return grid_results.best_params_"
   ]
  },
  {
   "cell_type": "code",
   "execution_count": 32,
   "metadata": {},
   "outputs": [],
   "source": [
    "def problem2_task3():\n",
    "    df = pd.read_csv(\"data/bank-additional-full.csv\",delimiter=';')\n",
    "    X = pd.get_dummies(data=df.iloc[:,:-1], drop_first=True)\n",
    "    y = pd.get_dummies(data=df['y'], drop_first=True)\n",
    "    # Scaling and normalizing the data\n",
    "    ss = preprocessing.StandardScaler()\n",
    "    X_scaled = ss.fit_transform(X)\n",
    "    parameter_space = {\n",
    "    'hidden_layer_sizes': [(10,10,10), (10,10,10,10), (10,10,10,10,10), (10,10,10,10,10,10)],\n",
    "    'alpha': [0.00001, 0.0001, 0.001, 0.01, 0.1]\n",
    "    }\n",
    "    mlp_model = MLPClassifier()\n",
    "    mlp_cv = RepeatedKFold(n_splits=3, n_repeats=3, random_state=1)\n",
    "    grid_search = GridSearchCV(estimator = mlp_model, param_grid = parameter_space, scoring='roc_auc',\n",
    "                              cv = mlp_cv, n_jobs = -1, verbose = 2, refit=callable)\n",
    "    grid_results = grid_search.fit(X_scaled, y.to_numpy().ravel())\n",
    "    print(f\"Best params : {grid_results.best_params_}\")\n",
    "    return grid_results.best_params_"
   ]
  },
  {
   "cell_type": "code",
   "execution_count": 41,
   "metadata": {},
   "outputs": [],
   "source": [
    "def problem2_task4():\n",
    "    df = pd.read_csv(\"data/bank-additional-full.csv\",delimiter=';')\n",
    "    X = pd.get_dummies(data=df.iloc[:,:-1], drop_first=True)\n",
    "    y = pd.get_dummies(data=df['y'], drop_first=True)\n",
    "    # Scaling and normalizing the data\n",
    "    ss = preprocessing.StandardScaler()\n",
    "    X_scaled = ss.fit_transform(X)\n",
    "    five_fold_cv = KFold(n_splits=5, random_state=1, shuffle=True)\n",
    "    log_reg_model = LogisticRegression(C=1,max_iter=1000)\n",
    "    rf_model = RandomForestClassifier(**best_params_for_rf_model)\n",
    "    nn_model = MLPClassifier(**best_params_for_nn_model)\n",
    "    y_pred_logreg = cross_val_predict(log_reg_model, X_scaled, y.to_numpy().ravel(), cv=five_fold_cv)\n",
    "    y_pred_rf = cross_val_predict(rf_model, X_scaled, y.to_numpy().ravel(), cv=five_fold_cv)\n",
    "    y_pred_nn = cross_val_predict(nn_model, X_scaled, y.to_numpy().ravel(), cv=five_fold_cv)\n",
    "    print(f\"Classification report for Logistic Regression\")\n",
    "    print(classification_report(y, y_pred_logreg))\n",
    "    print(f\"Classification report for Neural Network\")\n",
    "    print(classification_report(y, y_pred_nn))\n",
    "    print(f\"Classification report for Random Forest\")\n",
    "    print(classification_report(y, y_pred_rf))"
   ]
  },
  {
   "cell_type": "code",
   "execution_count": 9,
   "metadata": {},
   "outputs": [
    {
     "name": "stderr",
     "output_type": "stream",
     "text": [
      "/Users/testinium/opt/anaconda3/lib/python3.8/site-packages/joblib/externals/loky/process_executor.py:688: UserWarning: A worker stopped while some jobs were given to the executor. This can be caused by a too short worker timeout or by a memory leak.\n",
      "  warnings.warn(\n"
     ]
    },
    {
     "name": "stdout",
     "output_type": "stream",
     "text": [
      "Best C : 1.623776739188721\n"
     ]
    },
    {
     "data": {
      "image/png": "[encoded data removed]",
      "text/plain": [
       "<Figure size 432x288 with 1 Axes>"
      ]
     },
     "metadata": {
      "needs_background": "light"
     },
     "output_type": "display_data"
    }
   ],
   "source": [
    "problem2_task1()"
   ]
  },
  {
   "cell_type": "code",
   "execution_count": 34,
   "metadata": {},
   "outputs": [
    {
     "name": "stdout",
     "output_type": "stream",
     "text": [
      "Grid result for X normalized and Y1\n",
      "Fitting 9 folds for each of 108 candidates, totalling 972 fits\n"
     ]
    },
    {
     "name": "stderr",
     "output_type": "stream",
     "text": [
      "[Parallel(n_jobs=-1)]: Using backend LokyBackend with 8 concurrent workers.\n",
      "[Parallel(n_jobs=-1)]: Done  25 tasks      | elapsed:    7.6s\n",
      "/Users/testinium/opt/anaconda3/lib/python3.8/site-packages/joblib/externals/loky/process_executor.py:688: UserWarning: A worker stopped while some jobs were given to the executor. This can be caused by a too short worker timeout or by a memory leak.\n",
      "  warnings.warn(\n",
      "[Parallel(n_jobs=-1)]: Done 146 tasks      | elapsed:  4.3min\n",
      "[Parallel(n_jobs=-1)]: Done 349 tasks      | elapsed: 10.0min\n",
      "[Parallel(n_jobs=-1)]: Done 632 tasks      | elapsed: 20.4min\n",
      "[Parallel(n_jobs=-1)]: Done 972 out of 972 | elapsed: 32.1min finished\n"
     ]
    },
    {
     "name": "stdout",
     "output_type": "stream",
     "text": [
      "Best params : {'max_depth': 50, 'min_samples_leaf': 1, 'min_samples_split': 2, 'n_estimators': 10}\n"
     ]
    }
   ],
   "source": [
    "best_params_for_rf_model = problem2_task2()"
   ]
  },
  {
   "cell_type": "code",
   "execution_count": 18,
   "metadata": {},
   "outputs": [
    {
     "name": "stdout",
     "output_type": "stream",
     "text": [
      "Fitting 9 folds for each of 20 candidates, totalling 180 fits\n"
     ]
    },
    {
     "name": "stderr",
     "output_type": "stream",
     "text": [
      "[Parallel(n_jobs=-1)]: Using backend LokyBackend with 8 concurrent workers.\n",
      "[Parallel(n_jobs=-1)]: Done  25 tasks      | elapsed:  4.3min\n",
      "[Parallel(n_jobs=-1)]: Done 146 tasks      | elapsed: 20.5min\n",
      "[Parallel(n_jobs=-1)]: Done 180 out of 180 | elapsed: 22.5min finished\n"
     ]
    },
    {
     "name": "stdout",
     "output_type": "stream",
     "text": [
      "Best params : {'alpha': 1e-05, 'hidden_layer_sizes': (10, 10, 10)}\n"
     ]
    }
   ],
   "source": [
    "best_params_for_nn_model = problem2_task3()"
   ]
  },
  {
   "cell_type": "code",
   "execution_count": 43,
   "metadata": {},
   "outputs": [
    {
     "name": "stderr",
     "output_type": "stream",
     "text": [
      "/Users/testinium/opt/anaconda3/lib/python3.8/site-packages/sklearn/neural_network/_multilayer_perceptron.py:582: ConvergenceWarning: Stochastic Optimizer: Maximum iterations (200) reached and the optimization hasn't converged yet.\n",
      "  warnings.warn(\n"
     ]
    },
    {
     "name": "stdout",
     "output_type": "stream",
     "text": [
      "Classification report for Logistic Regression\n",
      "              precision    recall  f1-score   support\n",
      "\n",
      "           0       0.93      0.97      0.95     36548\n",
      "           1       0.67      0.42      0.52      4640\n",
      "\n",
      "    accuracy                           0.91     41188\n",
      "   macro avg       0.80      0.70      0.73     41188\n",
      "weighted avg       0.90      0.91      0.90     41188\n",
      "\n",
      "Classification report for Neural Network\n",
      "              precision    recall  f1-score   support\n",
      "\n",
      "           0       0.94      0.96      0.95     36548\n",
      "           1       0.62      0.54      0.58      4640\n",
      "\n",
      "    accuracy                           0.91     41188\n",
      "   macro avg       0.78      0.75      0.76     41188\n",
      "weighted avg       0.91      0.91      0.91     41188\n",
      "\n",
      "Classification report for Random Forest\n",
      "              precision    recall  f1-score   support\n",
      "\n",
      "           0       0.93      0.97      0.95     36548\n",
      "           1       0.65      0.43      0.52      4640\n",
      "\n",
      "    accuracy                           0.91     41188\n",
      "   macro avg       0.79      0.70      0.73     41188\n",
      "weighted avg       0.90      0.91      0.90     41188\n",
      "\n"
     ]
    }
   ],
   "source": [
    "problem2_task4()"
   ]
  },
  {
   "cell_type": "code",
   "execution_count": null,
   "metadata": {},
   "outputs": [],
   "source": []
  }
 ],
 "metadata": {
  "kernelspec": {
   "display_name": "Python 3",
   "language": "python",
   "name": "python3"
  },
  "language_info": {
   "codemirror_mode": {
    "name": "ipython",
    "version": 3
   },
   "file_extension": ".py",
   "mimetype": "text/x-python",
   "name": "python",
   "nbconvert_exporter": "python",
   "pygments_lexer": "ipython3",
   "version": "3.8.5"
  }
 },
 "nbformat": 4,
 "nbformat_minor": 4
}
