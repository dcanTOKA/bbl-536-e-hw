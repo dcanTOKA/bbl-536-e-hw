{
 "cells": [
  {
   "cell_type": "code",
   "execution_count": 16,
   "metadata": {},
   "outputs": [],
   "source": [
    "import pandas as pd\n",
    "import numpy as np\n",
    "import matplotlib.pyplot as plt\n",
    "from sklearn.neural_network import MLPClassifier\n",
    "from sklearn import preprocessing\n",
    "from sklearn.model_selection import train_test_split\n",
    "from sklearn.linear_model import Ridge, RidgeCV, Lasso, LassoCV, LogisticRegression\n",
    "from sklearn.metrics import mean_squared_error, classification_report, accuracy_score, make_scorer\n",
    "from sklearn.model_selection import KFold\n",
    "from sklearn.model_selection import cross_validate\n",
    "from sklearn.model_selection import RepeatedKFold\n",
    "from sklearn.model_selection import LeaveOneOut\n",
    "from sklearn.model_selection import cross_val_score, cross_val_predict\n",
    "from sklearn.ensemble import RandomForestClassifier, RandomForestRegressor\n",
    "from sklearn.model_selection import GridSearchCV\n",
    "from sympy import *\n",
    "from tqdm import tqdm\n",
    "import time"
   ]
  },
  {
   "cell_type": "markdown",
   "metadata": {},
   "source": [
    "# PROBLEM 1"
   ]
  },
  {
   "cell_type": "code",
   "execution_count": null,
   "metadata": {},
   "outputs": [],
   "source": [
    "def problem1_task1():\n",
    "    \"\"\"\n",
    "        Predictive models on the estimation of energy performance of residential buildings.\n",
    "\n",
    "            Parameters:\n",
    "\n",
    "            Features: X\n",
    "\n",
    "                X1: relative compactness\n",
    "                X2: surface area\n",
    "                X3: wall area\n",
    "                X4: roof area\n",
    "                X5: overall height\n",
    "                X6: orientation\n",
    "                X7: glazing area\n",
    "                X8: glazing area distribution\n",
    "\n",
    "            Targets: y\n",
    "\n",
    "                Y1: heating load (HL)\n",
    "                Y2: cooling load (CL)\n",
    "    \"\"\"\n",
    "    # Get data from sheet\n",
    "    df = pd.read_excel('data/ENB2012_data.xlsx')\n",
    "\n",
    "    features = ['X1', 'X2', 'X3', 'X4', 'X5', 'X6', 'X7', 'X8']\n",
    "    targets = ['Y1', 'Y2']\n",
    "\n",
    "    X = df[features]\n",
    "    y = df[targets]\n",
    "    \n",
    "    # Scaling and normalizing the data\n",
    "    X_normalized = preprocessing.normalize(X, norm='l2')\n",
    "    alpha_values = [0.001,0.01,0.1, 1.0, 10.0]\n",
    "    regr_cv = RidgeCV(alphas=alpha_values)\n",
    "    model_cv = regr_cv.fit(X_normalized, y)\n",
    "    optimum_alpha = model_cv.alpha_\n",
    "    print(f\"Optimum alpha : {optimum_alpha}\")\n",
    "    \n",
    "    \n",
    "    ridge_model = Ridge(normalize = True)\n",
    "\n",
    "    scoring_metrics = ['neg_mean_squared_error', 'neg_mean_absolute_error']\n",
    "\n",
    "    print(\"---------------------------------------------------\")\n",
    "    print(f\"Alpha : {optimum_alpha}\")\n",
    "    ridge_model.alpha = optimum_alpha\n",
    "    # prepare the cross-validation procedure\n",
    "    ridge_cv = RepeatedKFold(n_splits=10, n_repeats=10, random_state=1)\n",
    "    # evaluate model\n",
    "    scores = cross_validate(ridge_model, X, y, scoring=scoring_metrics, cv=ridge_cv, n_jobs=-1)\n",
    "    ridge_MSE_means = (np.mean(scores['test_neg_mean_squared_error']))\n",
    "    ridge_MAE_means = (np.mean(scores['test_neg_mean_absolute_error']))\n",
    "    ridge_MSE_stds = (np.std(scores['test_neg_mean_squared_error']))\n",
    "    ridge_MAE_stds = (np.std(scores['test_neg_mean_absolute_error']))\n",
    "    # report performance\n",
    "    print('MSE (mean) : %.3f (std) : (%.3f)' % (ridge_MSE_means, ridge_MSE_stds))\n",
    "    print('MAE (mean) : %.3f (std) : (%.3f)' % (ridge_MAE_means, ridge_MAE_stds))\n",
    "    print(\"****************************************************\")\n"
   ]
  },
  {
   "cell_type": "code",
   "execution_count": 2,
   "metadata": {},
   "outputs": [],
   "source": [
    "def problem1_task2():\n",
    "    \"\"\"\n",
    "        Predictive models on the estimation of energy performance of residential buildings.\n",
    "\n",
    "            Parameters:\n",
    "\n",
    "            Features: X\n",
    "\n",
    "                X1: relative compactness\n",
    "                X2: surface area\n",
    "                X3: wall area\n",
    "                X4: roof area\n",
    "                X5: overall height\n",
    "                X6: orientation\n",
    "                X7: glazing area\n",
    "                X8: glazing area distribution\n",
    "\n",
    "            Targets: y\n",
    "\n",
    "                Y1: heating load (HL)\n",
    "                Y2: cooling load (CL)\n",
    "    \"\"\"\n",
    "    # Get data from sheet\n",
    "    df = pd.read_excel('data/ENB2012_data.xlsx')\n",
    "\n",
    "    features = ['X1', 'X2', 'X3', 'X4', 'X5', 'X6', 'X7', 'X8']\n",
    "    targets = ['Y1', 'Y2']\n",
    "\n",
    "    X = df[features]\n",
    "    y = df[targets]\n",
    "    \n",
    "    # Scaling and normalizing the data\n",
    "    X_normalized = preprocessing.normalize(X, norm='l2')\n",
    "    \n",
    "    scoring_metrics = ['neg_mean_squared_error', 'neg_mean_absolute_error']\n",
    "    \n",
    "        # Create the parameter grid based on the results of random search \n",
    "    param_grid = {\n",
    "        'max_depth': [50, 150, 250],\n",
    "        'min_samples_leaf': [1, 2, 3],\n",
    "        'min_samples_split': [2, 3],\n",
    "        'n_estimators': [10, 50, 100, 250, 500]\n",
    "    }\n",
    "    # Create a based model\n",
    "    rf_model = RandomForestRegressor()\n",
    "    # evaluate the model\n",
    "    rfr_cv = RepeatedKFold(n_splits=10, n_repeats=10, random_state=1)\n",
    "    # Instantiate the grid search model\n",
    "    grid_search = GridSearchCV(estimator = rf_model, param_grid = param_grid, scoring=scoring_metrics,\n",
    "                              cv = rfr_cv, n_jobs = -1, verbose = 2, refit=False)\n",
    "    # Fit the grid search to the data\n",
    "    grid_search.fit(X_normalized, y)\n",
    "    best_grid = grid_search.best_estimator_\n",
    "    print(best_grid)"
   ]
  },
  {
   "cell_type": "code",
   "execution_count": null,
   "metadata": {},
   "outputs": [],
   "source": [
    "problem1_task1()"
   ]
  },
  {
   "cell_type": "code",
   "execution_count": 3,
   "metadata": {},
   "outputs": [
    {
     "name": "stdout",
     "output_type": "stream",
     "text": [
      "Fitting 100 folds for each of 90 candidates, totalling 9000 fits\n"
     ]
    },
    {
     "name": "stderr",
     "output_type": "stream",
     "text": [
      "[Parallel(n_jobs=-1)]: Using backend LokyBackend with 8 concurrent workers.\n",
      "[Parallel(n_jobs=-1)]: Done  25 tasks      | elapsed:    1.7s\n",
      "/Users/testinium/opt/anaconda3/lib/python3.8/site-packages/joblib/externals/loky/process_executor.py:688: UserWarning: A worker stopped while some jobs were given to the executor. This can be caused by a too short worker timeout or by a memory leak.\n",
      "  warnings.warn(\n",
      "[Parallel(n_jobs=-1)]: Done 378 tasks      | elapsed:   16.5s\n",
      "[Parallel(n_jobs=-1)]: Done 684 tasks      | elapsed:   38.7s\n",
      "[Parallel(n_jobs=-1)]: Done 1160 tasks      | elapsed:  1.2min\n",
      "[Parallel(n_jobs=-1)]: Done 1853 tasks      | elapsed:  2.0min\n",
      "[Parallel(n_jobs=-1)]: Done 2506 tasks      | elapsed:  2.9min\n",
      "[Parallel(n_jobs=-1)]: Done 3425 tasks      | elapsed:  3.8min\n",
      "[Parallel(n_jobs=-1)]: Done 4424 tasks      | elapsed:  5.1min\n",
      "[Parallel(n_jobs=-1)]: Done 5529 tasks      | elapsed:  6.5min\n",
      "[Parallel(n_jobs=-1)]: Done 6874 tasks      | elapsed:  8.0min\n",
      "[Parallel(n_jobs=-1)]: Done 8196 tasks      | elapsed:  9.7min\n",
      "[Parallel(n_jobs=-1)]: Done 9000 out of 9000 | elapsed: 10.8min finished\n"
     ]
    },
    {
     "ename": "AttributeError",
     "evalue": "'GridSearchCV' object has no attribute 'best_estimator_'",
     "output_type": "error",
     "traceback": [
      "\u001b[0;31m---------------------------------------------------------------------------\u001b[0m",
      "\u001b[0;31mAttributeError\u001b[0m                            Traceback (most recent call last)",
      "\u001b[0;32m<ipython-input-3-5aaf4adff68f>\u001b[0m in \u001b[0;36m<module>\u001b[0;34m\u001b[0m\n\u001b[0;32m----> 1\u001b[0;31m \u001b[0mproblem1_task2\u001b[0m\u001b[0;34m(\u001b[0m\u001b[0;34m)\u001b[0m\u001b[0;34m\u001b[0m\u001b[0;34m\u001b[0m\u001b[0m\n\u001b[0m",
      "\u001b[0;32m<ipython-input-2-8b208d759a2e>\u001b[0m in \u001b[0;36mproblem1_task2\u001b[0;34m()\u001b[0m\n\u001b[1;32m     51\u001b[0m     \u001b[0;31m# Fit the grid search to the data\u001b[0m\u001b[0;34m\u001b[0m\u001b[0;34m\u001b[0m\u001b[0;34m\u001b[0m\u001b[0m\n\u001b[1;32m     52\u001b[0m     \u001b[0mgrid_search\u001b[0m\u001b[0;34m.\u001b[0m\u001b[0mfit\u001b[0m\u001b[0;34m(\u001b[0m\u001b[0mX_normalized\u001b[0m\u001b[0;34m,\u001b[0m \u001b[0my\u001b[0m\u001b[0;34m)\u001b[0m\u001b[0;34m\u001b[0m\u001b[0;34m\u001b[0m\u001b[0m\n\u001b[0;32m---> 53\u001b[0;31m     \u001b[0mbest_grid\u001b[0m \u001b[0;34m=\u001b[0m \u001b[0mgrid_search\u001b[0m\u001b[0;34m.\u001b[0m\u001b[0mbest_estimator_\u001b[0m\u001b[0;34m\u001b[0m\u001b[0;34m\u001b[0m\u001b[0m\n\u001b[0m\u001b[1;32m     54\u001b[0m     \u001b[0mprint\u001b[0m\u001b[0;34m(\u001b[0m\u001b[0mbest_grid\u001b[0m\u001b[0;34m)\u001b[0m\u001b[0;34m\u001b[0m\u001b[0;34m\u001b[0m\u001b[0m\n",
      "\u001b[0;31mAttributeError\u001b[0m: 'GridSearchCV' object has no attribute 'best_estimator_'"
     ]
    }
   ],
   "source": [
    "problem1_task2()"
   ]
  },
  {
   "cell_type": "code",
   "execution_count": 35,
   "metadata": {},
   "outputs": [
    {
     "name": "stdout",
     "output_type": "stream",
     "text": [
      "Grid result for X normalized and Y1\n",
      "Fitting 100 folds for each of 90 candidates, totalling 9000 fits\n"
     ]
    },
    {
     "name": "stderr",
     "output_type": "stream",
     "text": [
      "[Parallel(n_jobs=-1)]: Using backend LokyBackend with 8 concurrent workers.\n",
      "[Parallel(n_jobs=-1)]: Done  25 tasks      | elapsed:    2.0s\n",
      "/Users/testinium/opt/anaconda3/lib/python3.8/site-packages/joblib/externals/loky/process_executor.py:688: UserWarning: A worker stopped while some jobs were given to the executor. This can be caused by a too short worker timeout or by a memory leak.\n",
      "  warnings.warn(\n",
      "[Parallel(n_jobs=-1)]: Done 434 tasks      | elapsed:   17.2s\n",
      "[Parallel(n_jobs=-1)]: Done 925 tasks      | elapsed:   36.6s\n",
      "[Parallel(n_jobs=-1)]: Done 1577 tasks      | elapsed:  1.1min\n",
      "[Parallel(n_jobs=-1)]: Done 2493 tasks      | elapsed:  1.8min\n",
      "[Parallel(n_jobs=-1)]: Done 3514 tasks      | elapsed:  2.6min\n",
      "[Parallel(n_jobs=-1)]: Done 4724 tasks      | elapsed:  3.5min\n",
      "[Parallel(n_jobs=-1)]: Done 5992 tasks      | elapsed:  4.5min\n",
      "[Parallel(n_jobs=-1)]: Done 7545 tasks      | elapsed:  5.9min\n"
     ]
    },
    {
     "name": "stdout",
     "output_type": "stream",
     "text": [
      "{'max_depth': 50, 'min_samples_leaf': 1, 'min_samples_split': 2, 'n_estimators': 10}\n"
     ]
    },
    {
     "name": "stderr",
     "output_type": "stream",
     "text": [
      "[Parallel(n_jobs=-1)]: Done 9000 out of 9000 | elapsed:  7.0min finished\n"
     ]
    }
   ],
   "source": [
    "# Get data from sheet\n",
    "df = pd.read_excel('data/ENB2012_data.xlsx')\n",
    "\n",
    "features = ['X1', 'X2', 'X3', 'X4', 'X5', 'X6', 'X7', 'X8']\n",
    "targets = ['Y1', 'Y2']\n",
    "\n",
    "X = df[features]\n",
    "y = df[targets]\n",
    "    \n",
    "# Scaling and normalizing the data\n",
    "min_max_scaler = preprocessing.MinMaxScaler()\n",
    "X_normalized = min_max_scaler.fit_transform(X)\n",
    "\n",
    "scoring_metrics = ['neg_mean_squared_error', 'neg_mean_absolute_error']\n",
    "\n",
    "# Create the parameter grid based on the results of random search \n",
    "param_grid = {\n",
    "    'max_depth': [50, 150, 250],\n",
    "    'min_samples_leaf': [1, 2, 3],\n",
    "    'min_samples_split': [2, 3],\n",
    "    'n_estimators': [10, 50, 100, 250, 500]\n",
    "}\n",
    "# Create a based model\n",
    "rf_model = RandomForestRegressor()\n",
    "# evaluate the model\n",
    "rfr_cv = RepeatedKFold(n_splits=10, n_repeats=10, random_state=1)\n",
    "# Instantiate the grid search model\n",
    "grid_search = GridSearchCV(estimator = rf_model, param_grid = param_grid, scoring=scoring_metrics,\n",
    "                          cv = rfr_cv, n_jobs = -1, verbose = 2, refit=callable)\n",
    "# Fit the grid search to the data for y1\n",
    "print(\"Grid result for X normalized and Y1\")\n",
    "grid_results_y1 = grid_search.fit(X_normalized, y['Y1'])\n",
    "print(grid_results_y1.best_params_)"
   ]
  },
  {
   "cell_type": "code",
   "execution_count": 37,
   "metadata": {},
   "outputs": [
    {
     "name": "stdout",
     "output_type": "stream",
     "text": [
      "neg_mean_squared_error\n",
      " : \n",
      "(mean) : 0.245 (std) : (0.090)\n",
      "****************************************************\n",
      "neg_mean_absolute_error\n",
      " : \n",
      "(mean) : 0.329 (std) : (0.040)\n",
      "****************************************************\n"
     ]
    }
   ],
   "source": [
    "rf_model_y1 = RandomForestRegressor(**grid_results_y1.best_params_)\n",
    "for score in scoring_metrics:\n",
    "        print(score),\n",
    "        print (\" : \"),\n",
    "        score_result = cross_val_score(rf_model_y1, X_normalized, y['Y1'], scoring=score, cv=rfr_cv, n_jobs=-1)\n",
    "        rf_score_means = (-1 * np.mean(score_result))\n",
    "        rf_score_stds = (np.std(score_result))\n",
    "        # report performance\n",
    "        print('(mean) : %.3f (std) : (%.3f)' % (rf_score_means, rf_score_stds))\n",
    "        print(\"****************************************************\")"
   ]
  },
  {
   "cell_type": "code",
   "execution_count": 39,
   "metadata": {},
   "outputs": [
    {
     "name": "stdout",
     "output_type": "stream",
     "text": [
      "Fitting 100 folds for each of 90 candidates, totalling 9000 fits\n"
     ]
    },
    {
     "name": "stderr",
     "output_type": "stream",
     "text": [
      "[Parallel(n_jobs=-1)]: Using backend LokyBackend with 8 concurrent workers.\n",
      "[Parallel(n_jobs=-1)]: Done  25 tasks      | elapsed:    1.9s\n",
      "/Users/testinium/opt/anaconda3/lib/python3.8/site-packages/joblib/externals/loky/process_executor.py:688: UserWarning: A worker stopped while some jobs were given to the executor. This can be caused by a too short worker timeout or by a memory leak.\n",
      "  warnings.warn(\n",
      "[Parallel(n_jobs=-1)]: Done 434 tasks      | elapsed:   19.3s\n",
      "[Parallel(n_jobs=-1)]: Done 925 tasks      | elapsed:   41.1s\n",
      "[Parallel(n_jobs=-1)]: Done 1496 tasks      | elapsed:  1.2min\n",
      "[Parallel(n_jobs=-1)]: Done 2437 tasks      | elapsed:  1.9min\n",
      "[Parallel(n_jobs=-1)]: Done 3402 tasks      | elapsed:  2.6min\n",
      "[Parallel(n_jobs=-1)]: Done 4505 tasks      | elapsed:  3.7min\n",
      "[Parallel(n_jobs=-1)]: Done 5912 tasks      | elapsed:  4.8min\n",
      "[Parallel(n_jobs=-1)]: Done 7385 tasks      | elapsed:  6.2min\n",
      "[Parallel(n_jobs=-1)]: Done 8954 tasks      | elapsed:  7.6min\n",
      "[Parallel(n_jobs=-1)]: Done 9000 out of 9000 | elapsed:  7.7min finished\n"
     ]
    },
    {
     "name": "stdout",
     "output_type": "stream",
     "text": [
      "{'max_depth': 50, 'min_samples_leaf': 1, 'min_samples_split': 2, 'n_estimators': 10}\n",
      "neg_mean_squared_error\n",
      " : \n",
      "(mean) : 2.930 (std) : (0.894)\n",
      "****************************************************\n",
      "neg_mean_absolute_error\n",
      " : \n",
      "(mean) : 1.017 (std) : (0.158)\n",
      "****************************************************\n"
     ]
    }
   ],
   "source": [
    "grid_results_y2 = grid_search.fit(X_normalized, y['Y2'])\n",
    "print(grid_results_y2.best_params_)\n",
    "rf_model_y2 = RandomForestRegressor(**grid_results_y2.best_params_)\n",
    "for score in scoring_metrics:\n",
    "        print(score),\n",
    "        print (\" : \"),\n",
    "        score_result = cross_val_score(rf_model_y2, X_normalized, y['Y2'], scoring=score, cv=rfr_cv, n_jobs=-1)\n",
    "        rf_score_means = (-1 * np.mean(score_result))\n",
    "        rf_score_stds = (np.std(score_result))\n",
    "        # report performance\n",
    "        print('(mean) : %.3f (std) : (%.3f)' % (rf_score_means, rf_score_stds))\n",
    "        print(\"****************************************************\")"
   ]
  },
  {
   "cell_type": "code",
   "execution_count": 28,
   "metadata": {},
   "outputs": [
    {
     "data": {
      "text/plain": [
       "{'fit_time': array([0.05013728, 0.048558  , 0.04555106, 0.04502916, 0.04495811,\n",
       "        0.04700971, 0.03856325, 0.03595996, 0.04227686, 0.03843403,\n",
       "        0.02865791, 0.037009  , 0.0273118 , 0.03255105, 0.02692914,\n",
       "        0.02030206, 0.02359605, 0.01995015, 0.04779506, 0.02727294,\n",
       "        0.02008319, 0.04472899, 0.02416897, 0.04951382, 0.04948211,\n",
       "        0.02031612, 0.03141022, 0.028193  , 0.01983905, 0.01968598,\n",
       "        0.02675462, 0.02009988, 0.03210115, 0.03772593, 0.02807188,\n",
       "        0.02462387, 0.03203273, 0.02054405, 0.02702618, 0.0226419 ,\n",
       "        0.03418016, 0.02234197, 0.0266068 , 0.02740479, 0.03299999,\n",
       "        0.02712822, 0.03705502, 0.02641106, 0.02905416, 0.02567196,\n",
       "        0.02620792, 0.02989101, 0.03166389, 0.03300786, 0.02634001,\n",
       "        0.03580809, 0.03298903, 0.02642417, 0.02883625, 0.02843714,\n",
       "        0.03652096, 0.02712226, 0.03298807, 0.02611518, 0.0277009 ,\n",
       "        0.02990317, 0.02641511, 0.03254294, 0.03265977, 0.02562094,\n",
       "        0.03127313, 0.02658415, 0.03210115, 0.02584791, 0.03433132,\n",
       "        0.02803588, 0.03299999, 0.02611899, 0.03404617, 0.02693295,\n",
       "        0.02692294, 0.0298419 , 0.02726483, 0.02885294, 0.02670503,\n",
       "        0.03421903, 0.02573085, 0.03415704, 0.02943087, 0.02579784,\n",
       "        0.03470325, 0.02623296, 0.02584982, 0.02684999, 0.03385592,\n",
       "        0.03064609, 0.025208  , 0.02697873, 0.02678895, 0.02387404]),\n",
       " 'score_time': array([0.00218868, 0.00290799, 0.00135994, 0.001302  , 0.00381899,\n",
       "        0.00121307, 0.00120091, 0.00253797, 0.00284219, 0.002635  ,\n",
       "        0.00094581, 0.00093102, 0.0009191 , 0.00093102, 0.00091076,\n",
       "        0.00092411, 0.00090289, 0.00088191, 0.00098085, 0.00096393,\n",
       "        0.00088286, 0.00093198, 0.00274801, 0.00093508, 0.00098205,\n",
       "        0.000911  , 0.00093603, 0.00093389, 0.00089884, 0.0008831 ,\n",
       "        0.0009222 , 0.00089478, 0.00328279, 0.00204706, 0.00093317,\n",
       "        0.00315309, 0.00265527, 0.00304818, 0.00162697, 0.00259209,\n",
       "        0.00153184, 0.00093317, 0.00093007, 0.00252891, 0.00091219,\n",
       "        0.00094485, 0.00093269, 0.00092101, 0.00092483, 0.00094295,\n",
       "        0.00092411, 0.00301385, 0.00093317, 0.00095677, 0.00091791,\n",
       "        0.00095606, 0.00125694, 0.00092888, 0.00316477, 0.00092101,\n",
       "        0.00092292, 0.0009129 , 0.00092697, 0.00091386, 0.00251913,\n",
       "        0.00093293, 0.00225592, 0.00093508, 0.00093317, 0.00091219,\n",
       "        0.00201273, 0.00092864, 0.00091696, 0.00092506, 0.00092888,\n",
       "        0.00091481, 0.0009253 , 0.00103211, 0.00092411, 0.00092483,\n",
       "        0.00090814, 0.00096202, 0.0009222 , 0.00095296, 0.00093699,\n",
       "        0.00092721, 0.00090432, 0.00092506, 0.00256705, 0.00091219,\n",
       "        0.00093985, 0.00092006, 0.000916  , 0.00215316, 0.00093913,\n",
       "        0.00093818, 0.00282669, 0.001055  , 0.00093603, 0.00089025]),\n",
       " 'test_neg_mean_squared_error': array([-0.32575195, -0.31599825, -0.2996791 , -0.33195216, -0.2254709 ,\n",
       "        -0.35123164, -0.18563951, -1.02050383, -0.18891897, -0.20854043,\n",
       "        -0.30806281, -0.23631291, -0.32203017, -0.3045409 , -0.22289143,\n",
       "        -0.63075077, -0.26049529, -0.50633787, -0.26069455, -0.45904585,\n",
       "        -1.22539312, -0.33527223, -0.23425526, -0.31308706, -0.32364022,\n",
       "        -0.30233157, -0.24911592, -0.18772408, -0.26302721, -0.33195938,\n",
       "        -0.43222664, -0.27676505, -0.39790905, -0.33467957, -0.39456206,\n",
       "        -0.28321816, -0.36669151, -0.21708081, -0.23258165, -0.27598562,\n",
       "        -0.34415979, -0.24071957, -0.25535394, -0.25409362, -0.24080306,\n",
       "        -0.20906747, -0.39236363, -0.33205978, -0.21837208, -0.42800076,\n",
       "        -0.52042448, -0.31337361, -0.20434714, -0.33112538, -0.38726946,\n",
       "        -0.29680288, -0.18668713, -0.2895695 , -0.30912088, -0.30437362,\n",
       "        -0.2231349 , -0.29484083, -0.23293796, -0.41740139, -0.45153494,\n",
       "        -0.25591034, -0.23457882, -0.19453744, -0.30710722, -0.41290529,\n",
       "        -0.25458369, -0.57154258, -0.31634339, -0.29857409, -0.88115253,\n",
       "        -0.2950977 , -0.33767973, -0.18720484, -0.32988291, -0.32812516,\n",
       "        -0.24938186, -0.28682481, -0.25754732, -0.30041819, -0.33415264,\n",
       "        -0.39129301, -0.30210338, -0.30269929, -0.21832364, -0.37651525,\n",
       "        -0.3744149 , -0.27871248, -0.29964986, -0.32854595, -0.28640425,\n",
       "        -0.32782463, -0.33291204, -0.17310864, -0.22803489, -0.24596666]),\n",
       " 'test_neg_mean_absolute_error': array([-0.40085714, -0.40518182, -0.37118182, -0.38084416, -0.32203896,\n",
       "        -0.38628571, -0.26337662, -0.569     , -0.27313158, -0.31780263,\n",
       "        -0.36524675, -0.3438961 , -0.37107792, -0.37185714, -0.30862338,\n",
       "        -0.44525455, -0.33687013, -0.45974545, -0.33665789, -0.44427105,\n",
       "        -0.53427792, -0.39109091, -0.33751948, -0.37387013, -0.38718182,\n",
       "        -0.39712987, -0.35745455, -0.28950649, -0.31926316, -0.4014    ,\n",
       "        -0.42587273, -0.35162338, -0.44458442, -0.39622078, -0.39811948,\n",
       "        -0.37815584, -0.38571429, -0.29975584, -0.33618158, -0.37075   ,\n",
       "        -0.40961039, -0.33728571, -0.3535974 , -0.34228831, -0.34781818,\n",
       "        -0.30616883, -0.37239221, -0.39497403, -0.30886842, -0.43534211,\n",
       "        -0.48980519, -0.37161039, -0.29394805, -0.4085974 , -0.43744416,\n",
       "        -0.36431169, -0.29687013, -0.34605455, -0.39453947, -0.35117895,\n",
       "        -0.31468571, -0.32498701, -0.32737143, -0.41115584, -0.43501299,\n",
       "        -0.3312987 , -0.33861299, -0.30342338, -0.37525   , -0.421     ,\n",
       "        -0.31987013, -0.46411688, -0.39154545, -0.37062597, -0.45876623,\n",
       "        -0.37196104, -0.3582987 , -0.26862078, -0.40232895, -0.42586842,\n",
       "        -0.34442857, -0.35114286, -0.37104675, -0.37396104, -0.35419481,\n",
       "        -0.42651948, -0.366     , -0.37754545, -0.32277632, -0.37801316,\n",
       "        -0.36801299, -0.35268831, -0.3682    , -0.38017922, -0.37422078,\n",
       "        -0.38751429, -0.40671429, -0.30045455, -0.32576316, -0.34090526])}"
      ]
     },
     "execution_count": 28,
     "metadata": {},
     "output_type": "execute_result"
    }
   ],
   "source": [
    "scores_y1"
   ]
  },
  {
   "cell_type": "code",
   "execution_count": 8,
   "metadata": {},
   "outputs": [
    {
     "name": "stdout",
     "output_type": "stream",
     "text": [
      "Fitting 100 folds for each of 90 candidates, totalling 9000 fits\n"
     ]
    },
    {
     "name": "stderr",
     "output_type": "stream",
     "text": [
      "[Parallel(n_jobs=-1)]: Using backend LokyBackend with 8 concurrent workers.\n",
      "[Parallel(n_jobs=-1)]: Done  34 tasks      | elapsed:    0.3s\n",
      "[Parallel(n_jobs=-1)]: Done 354 tasks      | elapsed:   11.7s\n",
      "[Parallel(n_jobs=-1)]: Done 576 tasks      | elapsed:   36.4s\n",
      "[Parallel(n_jobs=-1)]: Done 1024 tasks      | elapsed:  1.3min\n",
      "[Parallel(n_jobs=-1)]: Done 1652 tasks      | elapsed:  1.9min\n",
      "[Parallel(n_jobs=-1)]: Done 2434 tasks      | elapsed:  2.9min\n",
      "[Parallel(n_jobs=-1)]: Done 3329 tasks      | elapsed:  3.9min\n",
      "[Parallel(n_jobs=-1)]: Done 4304 tasks      | elapsed:  5.3min\n",
      "[Parallel(n_jobs=-1)]: Done 5385 tasks      | elapsed:  6.7min\n",
      "[Parallel(n_jobs=-1)]: Done 6522 tasks      | elapsed:  8.4min\n",
      "[Parallel(n_jobs=-1)]: Done 7925 tasks      | elapsed: 10.2min\n",
      "[Parallel(n_jobs=-1)]: Done 9000 out of 9000 | elapsed: 11.7min finished\n"
     ]
    },
    {
     "ename": "AttributeError",
     "evalue": "'GridSearchCV' object has no attribute 'best_params_'",
     "output_type": "error",
     "traceback": [
      "\u001b[0;31m---------------------------------------------------------------------------\u001b[0m",
      "\u001b[0;31mAttributeError\u001b[0m                            Traceback (most recent call last)",
      "\u001b[0;32m<ipython-input-8-fbf1a86d0d1a>\u001b[0m in \u001b[0;36m<module>\u001b[0;34m\u001b[0m\n\u001b[1;32m      1\u001b[0m \u001b[0mgrid_search\u001b[0m\u001b[0;34m.\u001b[0m\u001b[0mfit\u001b[0m\u001b[0;34m(\u001b[0m\u001b[0mX_normalized\u001b[0m\u001b[0;34m,\u001b[0m \u001b[0my\u001b[0m\u001b[0;34m)\u001b[0m\u001b[0;34m\u001b[0m\u001b[0;34m\u001b[0m\u001b[0m\n\u001b[0;32m----> 2\u001b[0;31m \u001b[0mgrid_search\u001b[0m\u001b[0;34m.\u001b[0m\u001b[0mbest_params_\u001b[0m\u001b[0;34m\u001b[0m\u001b[0;34m\u001b[0m\u001b[0m\n\u001b[0m",
      "\u001b[0;31mAttributeError\u001b[0m: 'GridSearchCV' object has no attribute 'best_params_'"
     ]
    }
   ],
   "source": [
    "grid_search.fit(X_normalized, y)\n",
    "grid_search.b"
   ]
  },
  {
   "cell_type": "code",
   "execution_count": 18,
   "metadata": {},
   "outputs": [
    {
     "data": {
      "text/html": [
       "<div>\n",
       "<style scoped>\n",
       "    .dataframe tbody tr th:only-of-type {\n",
       "        vertical-align: middle;\n",
       "    }\n",
       "\n",
       "    .dataframe tbody tr th {\n",
       "        vertical-align: top;\n",
       "    }\n",
       "\n",
       "    .dataframe thead th {\n",
       "        text-align: right;\n",
       "    }\n",
       "</style>\n",
       "<table border=\"1\" class=\"dataframe\">\n",
       "  <thead>\n",
       "    <tr style=\"text-align: right;\">\n",
       "      <th></th>\n",
       "      <th>mean_test_neg_mean_absolute_error</th>\n",
       "      <th>mean_test_neg_mean_squared_error</th>\n",
       "    </tr>\n",
       "  </thead>\n",
       "  <tbody>\n",
       "    <tr>\n",
       "      <th>0</th>\n",
       "      <td>-0.790681</td>\n",
       "      <td>-2.304826</td>\n",
       "    </tr>\n",
       "    <tr>\n",
       "      <th>1</th>\n",
       "      <td>-0.777258</td>\n",
       "      <td>-2.198255</td>\n",
       "    </tr>\n",
       "    <tr>\n",
       "      <th>2</th>\n",
       "      <td>-0.771690</td>\n",
       "      <td>-2.159435</td>\n",
       "    </tr>\n",
       "    <tr>\n",
       "      <th>3</th>\n",
       "      <td>-0.770573</td>\n",
       "      <td>-2.154504</td>\n",
       "    </tr>\n",
       "    <tr>\n",
       "      <th>4</th>\n",
       "      <td>-0.769297</td>\n",
       "      <td>-2.148807</td>\n",
       "    </tr>\n",
       "    <tr>\n",
       "      <th>...</th>\n",
       "      <td>...</td>\n",
       "      <td>...</td>\n",
       "    </tr>\n",
       "    <tr>\n",
       "      <th>85</th>\n",
       "      <td>-0.842941</td>\n",
       "      <td>-2.254338</td>\n",
       "    </tr>\n",
       "    <tr>\n",
       "      <th>86</th>\n",
       "      <td>-0.831923</td>\n",
       "      <td>-2.196605</td>\n",
       "    </tr>\n",
       "    <tr>\n",
       "      <th>87</th>\n",
       "      <td>-0.830324</td>\n",
       "      <td>-2.184033</td>\n",
       "    </tr>\n",
       "    <tr>\n",
       "      <th>88</th>\n",
       "      <td>-0.828448</td>\n",
       "      <td>-2.171968</td>\n",
       "    </tr>\n",
       "    <tr>\n",
       "      <th>89</th>\n",
       "      <td>-0.827129</td>\n",
       "      <td>-2.168554</td>\n",
       "    </tr>\n",
       "  </tbody>\n",
       "</table>\n",
       "<p>90 rows × 2 columns</p>\n",
       "</div>"
      ],
      "text/plain": [
       "    mean_test_neg_mean_absolute_error  mean_test_neg_mean_squared_error\n",
       "0                           -0.790681                         -2.304826\n",
       "1                           -0.777258                         -2.198255\n",
       "2                           -0.771690                         -2.159435\n",
       "3                           -0.770573                         -2.154504\n",
       "4                           -0.769297                         -2.148807\n",
       "..                                ...                               ...\n",
       "85                          -0.842941                         -2.254338\n",
       "86                          -0.831923                         -2.196605\n",
       "87                          -0.830324                         -2.184033\n",
       "88                          -0.828448                         -2.171968\n",
       "89                          -0.827129                         -2.168554\n",
       "\n",
       "[90 rows x 2 columns]"
      ]
     },
     "execution_count": 18,
     "metadata": {},
     "output_type": "execute_result"
    }
   ],
   "source": [
    "results_df = pd.DataFrame(grid_search.cv_results_)\n",
    "results_df[['mean_test_neg_mean_absolute_error','mean_test_neg_mean_squared_error']]"
   ]
  },
  {
   "cell_type": "code",
   "execution_count": 4,
   "metadata": {},
   "outputs": [],
   "source": [
    "# Get data from sheet\n",
    "df = pd.read_excel('data/ENB2012_data.xlsx')"
   ]
  },
  {
   "cell_type": "code",
   "execution_count": 5,
   "metadata": {},
   "outputs": [
    {
     "data": {
      "text/plain": [
       "False"
      ]
     },
     "execution_count": 5,
     "metadata": {},
     "output_type": "execute_result"
    }
   ],
   "source": [
    "# to evaluate whether any value is missing\n",
    "df.isnull().values.any()"
   ]
  },
  {
   "cell_type": "code",
   "execution_count": 6,
   "metadata": {},
   "outputs": [
    {
     "data": {
      "text/plain": [
       "Index(['X1', 'X2', 'X3', 'X4', 'X5', 'X6', 'X7', 'X8', 'Y1', 'Y2'], dtype='object')"
      ]
     },
     "execution_count": 6,
     "metadata": {},
     "output_type": "execute_result"
    }
   ],
   "source": [
    "# Observe the features and targets. Later they are going to be split.\n",
    "df.columns"
   ]
  },
  {
   "cell_type": "code",
   "execution_count": 7,
   "metadata": {},
   "outputs": [],
   "source": [
    "\"\"\"\n",
    "Predictive models on the estimation of energy performance of\n",
    "residential buildings.\n",
    "\n",
    "Parameters:\n",
    "\n",
    "    Features: X\n",
    "\n",
    "        X1: relative compactness\n",
    "        X2: surface area\n",
    "        X3: wall area\n",
    "        X4: roof area\n",
    "        X5: overall height\n",
    "        X6: orientation\n",
    "        X7: glazing area\n",
    "        X8: glazing area distribution\n",
    "        \n",
    "    Targets: y\n",
    "    \n",
    "        Y1: heating load (HL)\n",
    "        Y2: cooling load (CL)\n",
    "\"\"\"\n",
    "\n",
    "features = ['X1', 'X2', 'X3', 'X4', 'X5', 'X6', 'X7', 'X8']\n",
    "targets = ['Y1', 'Y2']\n",
    "\n",
    "X = df[features]\n",
    "y = df[targets]"
   ]
  },
  {
   "cell_type": "code",
   "execution_count": 8,
   "metadata": {},
   "outputs": [
    {
     "data": {
      "text/plain": [
       "(768, 8)"
      ]
     },
     "execution_count": 8,
     "metadata": {},
     "output_type": "execute_result"
    }
   ],
   "source": [
    "# Show size of the Feature Matrix\n",
    "X.shape"
   ]
  },
  {
   "cell_type": "code",
   "execution_count": 9,
   "metadata": {},
   "outputs": [
    {
     "data": {
      "text/plain": [
       "(768, 2)"
      ]
     },
     "execution_count": 9,
     "metadata": {},
     "output_type": "execute_result"
    }
   ],
   "source": [
    "# Show size of the Target Matrix\n",
    "y.shape"
   ]
  },
  {
   "cell_type": "code",
   "execution_count": 10,
   "metadata": {},
   "outputs": [
    {
     "data": {
      "image/png": "[encoded data removed]",
      "text/plain": [
       "<Figure size 1080x288 with 1 Axes>"
      ]
     },
     "metadata": {
      "needs_background": "light"
     },
     "output_type": "display_data"
    }
   ],
   "source": [
    "# For each numerical feature compute number of unique entries\n",
    "unique_values = X.select_dtypes(\n",
    "  include=\"number\").nunique().sort_values()\n",
    "\n",
    "# Plot information with y-axis\n",
    "unique_values.plot.bar(logy=False, figsize=(15, 4),\n",
    "                       title=\"Unique values per feature\");"
   ]
  },
  {
   "cell_type": "code",
   "execution_count": 11,
   "metadata": {},
   "outputs": [],
   "source": [
    "# Scaling and normalizing the data\n",
    "X_normalized = preprocessing.normalize(X, norm='l2')"
   ]
  },
  {
   "cell_type": "code",
   "execution_count": 12,
   "metadata": {},
   "outputs": [],
   "source": [
    "alpha_values = [0.001,0.01,0.1, 1.0, 10.0]\n",
    "regr_cv = RidgeCV(alphas=alpha_values)\n",
    "model_cv = regr_cv.fit(X_normalized, y)\n",
    "optimum_alpha = model_cv.alpha_"
   ]
  },
  {
   "cell_type": "code",
   "execution_count": 13,
   "metadata": {},
   "outputs": [
    {
     "data": {
      "text/plain": [
       "0.001"
      ]
     },
     "execution_count": 13,
     "metadata": {},
     "output_type": "execute_result"
    }
   ],
   "source": [
    "optimum_alpha"
   ]
  },
  {
   "cell_type": "code",
   "execution_count": 14,
   "metadata": {},
   "outputs": [
    {
     "name": "stdout",
     "output_type": "stream",
     "text": [
      "---------------------------------------------------\n",
      "Alpha : 0.001\n",
      "MSE (mean) : -9.536 (std) : (1.888)\n",
      "MAE (mean) : -2.179 (std) : (0.232)\n",
      "****************************************************\n"
     ]
    }
   ],
   "source": [
    "alpha_values = [0.001,0.01,0.1, 1.0, 10.0]\n",
    "\n",
    "ridge_model = Ridge(normalize = True)\n",
    "\n",
    "scoring_metrics = ['neg_mean_squared_error', 'neg_mean_absolute_error']\n",
    "\n",
    "print(\"---------------------------------------------------\")\n",
    "print(f\"Alpha : {optimum_alpha}\")\n",
    "ridge_model.alpha = optimum_alpha\n",
    "# prepare the cross-validation procedure\n",
    "ridge_cv = RepeatedKFold(n_splits=10, n_repeats=10, random_state=1)\n",
    "# evaluate model\n",
    "scores = cross_validate(ridge_model, X, y, scoring=scoring_metrics, cv=ridge_cv, n_jobs=-1)\n",
    "ridge_MSE_means = (np.mean(scores['test_neg_mean_squared_error']))\n",
    "ridge_MAE_means = (np.mean(scores['test_neg_mean_absolute_error']))\n",
    "ridge_MSE_stds = (np.std(scores['test_neg_mean_squared_error']))\n",
    "ridge_MAE_stds = (np.std(scores['test_neg_mean_absolute_error']))\n",
    "# report performance\n",
    "print('MSE (mean) : %.3f (std) : (%.3f)' % (ridge_MSE_means, ridge_MSE_stds))\n",
    "print('MAE (mean) : %.3f (std) : (%.3f)' % (ridge_MAE_means, ridge_MAE_stds))\n",
    "print(\"****************************************************\")"
   ]
  },
  {
   "cell_type": "code",
   "execution_count": 18,
   "metadata": {},
   "outputs": [],
   "source": [
    "# Scaling the data\n",
    "scaler = preprocessing.StandardScaler()\n",
    "X_std = scaler.fit_transform(X)"
   ]
  },
  {
   "cell_type": "code",
   "execution_count": 19,
   "metadata": {},
   "outputs": [],
   "source": [
    "regr_cv = RidgeCV(alphas=[0.001, 0.01, 0.1, 1.0, 10.0])"
   ]
  },
  {
   "cell_type": "code",
   "execution_count": 20,
   "metadata": {},
   "outputs": [],
   "source": [
    "model_cv = regr_cv.fit(X_std, y)"
   ]
  },
  {
   "cell_type": "code",
   "execution_count": 21,
   "metadata": {},
   "outputs": [
    {
     "data": {
      "text/plain": [
       "0.1"
      ]
     },
     "execution_count": 21,
     "metadata": {},
     "output_type": "execute_result"
    }
   ],
   "source": [
    "model_cv.alpha_"
   ]
  },
  {
   "cell_type": "code",
   "execution_count": 22,
   "metadata": {},
   "outputs": [
    {
     "data": {
      "text/html": [
       "<div>\n",
       "<style scoped>\n",
       "    .dataframe tbody tr th:only-of-type {\n",
       "        vertical-align: middle;\n",
       "    }\n",
       "\n",
       "    .dataframe tbody tr th {\n",
       "        vertical-align: top;\n",
       "    }\n",
       "\n",
       "    .dataframe thead th {\n",
       "        text-align: right;\n",
       "    }\n",
       "</style>\n",
       "<table border=\"1\" class=\"dataframe\">\n",
       "  <thead>\n",
       "    <tr style=\"text-align: right;\">\n",
       "      <th></th>\n",
       "      <th>X1</th>\n",
       "      <th>X2</th>\n",
       "      <th>X3</th>\n",
       "      <th>X4</th>\n",
       "      <th>X5</th>\n",
       "      <th>X6</th>\n",
       "      <th>X7</th>\n",
       "      <th>X8</th>\n",
       "    </tr>\n",
       "  </thead>\n",
       "  <tbody>\n",
       "    <tr>\n",
       "      <th>0</th>\n",
       "      <td>2.041777</td>\n",
       "      <td>-1.785875</td>\n",
       "      <td>-0.561951</td>\n",
       "      <td>-1.470077</td>\n",
       "      <td>1.0</td>\n",
       "      <td>-1.341641</td>\n",
       "      <td>-1.760447</td>\n",
       "      <td>-1.814575</td>\n",
       "    </tr>\n",
       "    <tr>\n",
       "      <th>1</th>\n",
       "      <td>2.041777</td>\n",
       "      <td>-1.785875</td>\n",
       "      <td>-0.561951</td>\n",
       "      <td>-1.470077</td>\n",
       "      <td>1.0</td>\n",
       "      <td>-0.447214</td>\n",
       "      <td>-1.760447</td>\n",
       "      <td>-1.814575</td>\n",
       "    </tr>\n",
       "    <tr>\n",
       "      <th>2</th>\n",
       "      <td>2.041777</td>\n",
       "      <td>-1.785875</td>\n",
       "      <td>-0.561951</td>\n",
       "      <td>-1.470077</td>\n",
       "      <td>1.0</td>\n",
       "      <td>0.447214</td>\n",
       "      <td>-1.760447</td>\n",
       "      <td>-1.814575</td>\n",
       "    </tr>\n",
       "    <tr>\n",
       "      <th>3</th>\n",
       "      <td>2.041777</td>\n",
       "      <td>-1.785875</td>\n",
       "      <td>-0.561951</td>\n",
       "      <td>-1.470077</td>\n",
       "      <td>1.0</td>\n",
       "      <td>1.341641</td>\n",
       "      <td>-1.760447</td>\n",
       "      <td>-1.814575</td>\n",
       "    </tr>\n",
       "    <tr>\n",
       "      <th>4</th>\n",
       "      <td>1.284979</td>\n",
       "      <td>-1.229239</td>\n",
       "      <td>0.000000</td>\n",
       "      <td>-1.198678</td>\n",
       "      <td>1.0</td>\n",
       "      <td>-1.341641</td>\n",
       "      <td>-1.760447</td>\n",
       "      <td>-1.814575</td>\n",
       "    </tr>\n",
       "    <tr>\n",
       "      <th>5</th>\n",
       "      <td>1.284979</td>\n",
       "      <td>-1.229239</td>\n",
       "      <td>0.000000</td>\n",
       "      <td>-1.198678</td>\n",
       "      <td>1.0</td>\n",
       "      <td>-0.447214</td>\n",
       "      <td>-1.760447</td>\n",
       "      <td>-1.814575</td>\n",
       "    </tr>\n",
       "    <tr>\n",
       "      <th>6</th>\n",
       "      <td>1.284979</td>\n",
       "      <td>-1.229239</td>\n",
       "      <td>0.000000</td>\n",
       "      <td>-1.198678</td>\n",
       "      <td>1.0</td>\n",
       "      <td>0.447214</td>\n",
       "      <td>-1.760447</td>\n",
       "      <td>-1.814575</td>\n",
       "    </tr>\n",
       "    <tr>\n",
       "      <th>7</th>\n",
       "      <td>1.284979</td>\n",
       "      <td>-1.229239</td>\n",
       "      <td>0.000000</td>\n",
       "      <td>-1.198678</td>\n",
       "      <td>1.0</td>\n",
       "      <td>1.341641</td>\n",
       "      <td>-1.760447</td>\n",
       "      <td>-1.814575</td>\n",
       "    </tr>\n",
       "    <tr>\n",
       "      <th>8</th>\n",
       "      <td>0.906580</td>\n",
       "      <td>-0.950920</td>\n",
       "      <td>-0.561951</td>\n",
       "      <td>-0.655880</td>\n",
       "      <td>1.0</td>\n",
       "      <td>-1.341641</td>\n",
       "      <td>-1.760447</td>\n",
       "      <td>-1.814575</td>\n",
       "    </tr>\n",
       "    <tr>\n",
       "      <th>9</th>\n",
       "      <td>0.906580</td>\n",
       "      <td>-0.950920</td>\n",
       "      <td>-0.561951</td>\n",
       "      <td>-0.655880</td>\n",
       "      <td>1.0</td>\n",
       "      <td>-0.447214</td>\n",
       "      <td>-1.760447</td>\n",
       "      <td>-1.814575</td>\n",
       "    </tr>\n",
       "    <tr>\n",
       "      <th>10</th>\n",
       "      <td>0.906580</td>\n",
       "      <td>-0.950920</td>\n",
       "      <td>-0.561951</td>\n",
       "      <td>-0.655880</td>\n",
       "      <td>1.0</td>\n",
       "      <td>0.447214</td>\n",
       "      <td>-1.760447</td>\n",
       "      <td>-1.814575</td>\n",
       "    </tr>\n",
       "    <tr>\n",
       "      <th>11</th>\n",
       "      <td>0.906580</td>\n",
       "      <td>-0.950920</td>\n",
       "      <td>-0.561951</td>\n",
       "      <td>-0.655880</td>\n",
       "      <td>1.0</td>\n",
       "      <td>1.341641</td>\n",
       "      <td>-1.760447</td>\n",
       "      <td>-1.814575</td>\n",
       "    </tr>\n",
       "    <tr>\n",
       "      <th>12</th>\n",
       "      <td>0.528182</td>\n",
       "      <td>-0.672602</td>\n",
       "      <td>0.000000</td>\n",
       "      <td>-0.655880</td>\n",
       "      <td>1.0</td>\n",
       "      <td>-1.341641</td>\n",
       "      <td>-1.760447</td>\n",
       "      <td>-1.814575</td>\n",
       "    </tr>\n",
       "    <tr>\n",
       "      <th>13</th>\n",
       "      <td>0.528182</td>\n",
       "      <td>-0.672602</td>\n",
       "      <td>0.000000</td>\n",
       "      <td>-0.655880</td>\n",
       "      <td>1.0</td>\n",
       "      <td>-0.447214</td>\n",
       "      <td>-1.760447</td>\n",
       "      <td>-1.814575</td>\n",
       "    </tr>\n",
       "    <tr>\n",
       "      <th>14</th>\n",
       "      <td>0.528182</td>\n",
       "      <td>-0.672602</td>\n",
       "      <td>0.000000</td>\n",
       "      <td>-0.655880</td>\n",
       "      <td>1.0</td>\n",
       "      <td>0.447214</td>\n",
       "      <td>-1.760447</td>\n",
       "      <td>-1.814575</td>\n",
       "    </tr>\n",
       "  </tbody>\n",
       "</table>\n",
       "</div>"
      ],
      "text/plain": [
       "          X1        X2        X3        X4   X5        X6        X7        X8\n",
       "0   2.041777 -1.785875 -0.561951 -1.470077  1.0 -1.341641 -1.760447 -1.814575\n",
       "1   2.041777 -1.785875 -0.561951 -1.470077  1.0 -0.447214 -1.760447 -1.814575\n",
       "2   2.041777 -1.785875 -0.561951 -1.470077  1.0  0.447214 -1.760447 -1.814575\n",
       "3   2.041777 -1.785875 -0.561951 -1.470077  1.0  1.341641 -1.760447 -1.814575\n",
       "4   1.284979 -1.229239  0.000000 -1.198678  1.0 -1.341641 -1.760447 -1.814575\n",
       "5   1.284979 -1.229239  0.000000 -1.198678  1.0 -0.447214 -1.760447 -1.814575\n",
       "6   1.284979 -1.229239  0.000000 -1.198678  1.0  0.447214 -1.760447 -1.814575\n",
       "7   1.284979 -1.229239  0.000000 -1.198678  1.0  1.341641 -1.760447 -1.814575\n",
       "8   0.906580 -0.950920 -0.561951 -0.655880  1.0 -1.341641 -1.760447 -1.814575\n",
       "9   0.906580 -0.950920 -0.561951 -0.655880  1.0 -0.447214 -1.760447 -1.814575\n",
       "10  0.906580 -0.950920 -0.561951 -0.655880  1.0  0.447214 -1.760447 -1.814575\n",
       "11  0.906580 -0.950920 -0.561951 -0.655880  1.0  1.341641 -1.760447 -1.814575\n",
       "12  0.528182 -0.672602  0.000000 -0.655880  1.0 -1.341641 -1.760447 -1.814575\n",
       "13  0.528182 -0.672602  0.000000 -0.655880  1.0 -0.447214 -1.760447 -1.814575\n",
       "14  0.528182 -0.672602  0.000000 -0.655880  1.0  0.447214 -1.760447 -1.814575"
      ]
     },
     "execution_count": 22,
     "metadata": {},
     "output_type": "execute_result"
    }
   ],
   "source": [
    "# After scaling the data\n",
    "df_X_sc = pd.DataFrame(X_std, columns = features)\n",
    "df_X_sc.head(15)"
   ]
  },
  {
   "cell_type": "code",
   "execution_count": 32,
   "metadata": {},
   "outputs": [
    {
     "data": {
      "text/plain": [
       "[('MSE', 'RandomForest'), ('MAE', 'RidgeRegression')]"
      ]
     },
     "execution_count": 32,
     "metadata": {},
     "output_type": "execute_result"
    }
   ],
   "source": [
    "hier_index"
   ]
  },
  {
   "cell_type": "code",
   "execution_count": 30,
   "metadata": {},
   "outputs": [
    {
     "data": {
      "text/plain": [
       "MultiIndex([('MSE',    'RandomForest'),\n",
       "            ('MSE', 'RidgeRegression')],\n",
       "           )"
      ]
     },
     "execution_count": 30,
     "metadata": {},
     "output_type": "execute_result"
    }
   ],
   "source": [
    "hier_index_2"
   ]
  },
  {
   "cell_type": "code",
   "execution_count": 44,
   "metadata": {},
   "outputs": [
    {
     "name": "stdout",
     "output_type": "stream",
     "text": [
      "|    |   ('MSE', 'RandomForest') |   ('MAE', 'RidgeRegression') |   ('MSE', 'RandomForest') |   ('MAE', 'RidgeRegression') |\n",
      "|:---|--------------------------:|-----------------------------:|--------------------------:|-----------------------------:|\n",
      "| Y1 |                 -0.721261 |                     0.75762  |                  0.809851 |                     -1.824   |\n",
      "| Y2 |                  0.181333 |                     0.405592 |                  1.51814  |                     -2.07528 |\n"
     ]
    }
   ],
   "source": [
    "from tabulate import tabulate\n",
    "scores = ['MSE', 'MAE', 'MSE', 'MAE']\n",
    "models = ['RandomForest', 'RidgeRegression', 'RandomForest', 'RidgeRegression']\n",
    "hier_index = list(zip(scores, models))\n",
    "hier_index_2 = pd.MultiIndex.from_tuples(hier_index)\n",
    "df = pd.DataFrame(randn(2,4), ['Y1', 'Y2'], hier_index_2 )\n",
    "print(df.to_markdown())"
   ]
  },
  {
   "cell_type": "code",
   "execution_count": 5,
   "metadata": {},
   "outputs": [
    {
     "data": {
      "text/plain": [
       "array([[1, 2],\n",
       "       [3, 4]])"
      ]
     },
     "execution_count": 5,
     "metadata": {},
     "output_type": "execute_result"
    }
   ],
   "source": [
    "a = 1\n",
    "b = 2\n",
    "c = 3\n",
    "d = 4\n",
    "e = np.array([a,b,c,d]).reshape(2,2)\n",
    "e"
   ]
  },
  {
   "cell_type": "code",
   "execution_count": 7,
   "metadata": {},
   "outputs": [
    {
     "data": {
      "text/html": [
       "<div>\n",
       "<style scoped>\n",
       "    .dataframe tbody tr th:only-of-type {\n",
       "        vertical-align: middle;\n",
       "    }\n",
       "\n",
       "    .dataframe tbody tr th {\n",
       "        vertical-align: top;\n",
       "    }\n",
       "\n",
       "    .dataframe thead tr th {\n",
       "        text-align: left;\n",
       "    }\n",
       "</style>\n",
       "<table border=\"1\" class=\"dataframe\">\n",
       "  <thead>\n",
       "    <tr>\n",
       "      <th></th>\n",
       "      <th colspan=\"2\" halign=\"left\">MSE</th>\n",
       "    </tr>\n",
       "    <tr>\n",
       "      <th></th>\n",
       "      <th>RandomForest</th>\n",
       "      <th>RidgeRegression</th>\n",
       "    </tr>\n",
       "  </thead>\n",
       "  <tbody>\n",
       "    <tr>\n",
       "      <th>Y1</th>\n",
       "      <td>1</td>\n",
       "      <td>2</td>\n",
       "    </tr>\n",
       "    <tr>\n",
       "      <th>Y2</th>\n",
       "      <td>3</td>\n",
       "      <td>4</td>\n",
       "    </tr>\n",
       "  </tbody>\n",
       "</table>\n",
       "</div>"
      ],
      "text/plain": [
       "            MSE                \n",
       "   RandomForest RidgeRegression\n",
       "Y1            1               2\n",
       "Y2            3               4"
      ]
     },
     "execution_count": 7,
     "metadata": {},
     "output_type": "execute_result"
    }
   ],
   "source": [
    "df = pd.DataFrame(e, ['Y1', 'Y2'] ,hier_index_2)\n",
    "df"
   ]
  },
  {
   "cell_type": "code",
   "execution_count": 10,
   "metadata": {},
   "outputs": [
    {
     "name": "stdout",
     "output_type": "stream",
     "text": [
      "±\n"
     ]
    }
   ],
   "source": [
    "print(\"±\")"
   ]
  },
  {
   "cell_type": "code",
   "execution_count": 9,
   "metadata": {},
   "outputs": [
    {
     "name": "stdout",
     "output_type": "stream",
     "text": [
      "value $\\pm$ error\n"
     ]
    }
   ],
   "source": [
    "print( r\"value $\\pm$ error\" )"
   ]
  },
  {
   "cell_type": "code",
   "execution_count": 13,
   "metadata": {},
   "outputs": [
    {
     "data": {
      "text/plain": [
       "array([0., 0., 0., 0.])"
      ]
     },
     "execution_count": 13,
     "metadata": {},
     "output_type": "execute_result"
    }
   ],
   "source": [
    "np.zeros(4)"
   ]
  },
  {
   "cell_type": "code",
   "execution_count": 14,
   "metadata": {},
   "outputs": [
    {
     "data": {
      "text/plain": [
       "1"
      ]
     },
     "execution_count": 14,
     "metadata": {},
     "output_type": "execute_result"
    }
   ],
   "source": [
    "3 % 2"
   ]
  },
  {
   "cell_type": "code",
   "execution_count": 15,
   "metadata": {},
   "outputs": [
    {
     "data": {
      "text/plain": [
       "0"
      ]
     },
     "execution_count": 15,
     "metadata": {},
     "output_type": "execute_result"
    }
   ],
   "source": [
    "4 % 2"
   ]
  },
  {
   "cell_type": "code",
   "execution_count": 19,
   "metadata": {},
   "outputs": [
    {
     "ename": "SyntaxError",
     "evalue": "invalid character in identifier (<ipython-input-19-e0c563089793>, line 2)",
     "output_type": "error",
     "traceback": [
      "\u001b[0;36m  File \u001b[0;32m\"<ipython-input-19-e0c563089793>\"\u001b[0;36m, line \u001b[0;32m2\u001b[0m\n\u001b[0;31m    f[0] = 8.711  ± 1.741\u001b[0m\n\u001b[0m                  ^\u001b[0m\n\u001b[0;31mSyntaxError\u001b[0m\u001b[0;31m:\u001b[0m invalid character in identifier\n"
     ]
    }
   ],
   "source": [
    "f = np.zeros(4 ,str)\n",
    "f[0] = 8.711  ± 1.741"
   ]
  },
  {
   "cell_type": "code",
   "execution_count": 31,
   "metadata": {},
   "outputs": [
    {
     "name": "stdout",
     "output_type": "stream",
     "text": [
      "8.711 ± 1.741\n"
     ]
    }
   ],
   "source": [
    "import sympy as sym\n",
    "pm = sym.Symbol('±')\n",
    "s1 = 8.711\n",
    "s2 = 1.741\n",
    "\n",
    "\n",
    "r = np.array(['a'], dtype='object')\n",
    "\n",
    "aa = str(s1) + \" ± \" + str(s2)\n",
    "r[0] = aa\n",
    "print(r[0])"
   ]
  },
  {
   "cell_type": "code",
   "execution_count": 32,
   "metadata": {},
   "outputs": [],
   "source": [
    "df = pd.read_excel('data/ENB2012_data.xlsx')\n",
    "\n",
    "features = ['X1', 'X2', 'X3', 'X4', 'X5', 'X6', 'X7', 'X8']\n",
    "targets = ['Y1', 'Y2']\n",
    "\n",
    "X = df[features]\n",
    "y = df[targets]"
   ]
  },
  {
   "cell_type": "code",
   "execution_count": 33,
   "metadata": {},
   "outputs": [
    {
     "data": {
      "text/html": [
       "<div>\n",
       "<style scoped>\n",
       "    .dataframe tbody tr th:only-of-type {\n",
       "        vertical-align: middle;\n",
       "    }\n",
       "\n",
       "    .dataframe tbody tr th {\n",
       "        vertical-align: top;\n",
       "    }\n",
       "\n",
       "    .dataframe thead th {\n",
       "        text-align: right;\n",
       "    }\n",
       "</style>\n",
       "<table border=\"1\" class=\"dataframe\">\n",
       "  <thead>\n",
       "    <tr style=\"text-align: right;\">\n",
       "      <th></th>\n",
       "      <th>X1</th>\n",
       "      <th>X2</th>\n",
       "      <th>X3</th>\n",
       "      <th>X4</th>\n",
       "      <th>X5</th>\n",
       "      <th>X6</th>\n",
       "      <th>X7</th>\n",
       "      <th>X8</th>\n",
       "    </tr>\n",
       "  </thead>\n",
       "  <tbody>\n",
       "    <tr>\n",
       "      <th>0</th>\n",
       "      <td>0.98</td>\n",
       "      <td>514.5</td>\n",
       "      <td>294.0</td>\n",
       "      <td>110.25</td>\n",
       "      <td>7.0</td>\n",
       "      <td>2</td>\n",
       "      <td>0.0</td>\n",
       "      <td>0</td>\n",
       "    </tr>\n",
       "    <tr>\n",
       "      <th>1</th>\n",
       "      <td>0.98</td>\n",
       "      <td>514.5</td>\n",
       "      <td>294.0</td>\n",
       "      <td>110.25</td>\n",
       "      <td>7.0</td>\n",
       "      <td>3</td>\n",
       "      <td>0.0</td>\n",
       "      <td>0</td>\n",
       "    </tr>\n",
       "    <tr>\n",
       "      <th>2</th>\n",
       "      <td>0.98</td>\n",
       "      <td>514.5</td>\n",
       "      <td>294.0</td>\n",
       "      <td>110.25</td>\n",
       "      <td>7.0</td>\n",
       "      <td>4</td>\n",
       "      <td>0.0</td>\n",
       "      <td>0</td>\n",
       "    </tr>\n",
       "    <tr>\n",
       "      <th>3</th>\n",
       "      <td>0.98</td>\n",
       "      <td>514.5</td>\n",
       "      <td>294.0</td>\n",
       "      <td>110.25</td>\n",
       "      <td>7.0</td>\n",
       "      <td>5</td>\n",
       "      <td>0.0</td>\n",
       "      <td>0</td>\n",
       "    </tr>\n",
       "    <tr>\n",
       "      <th>4</th>\n",
       "      <td>0.90</td>\n",
       "      <td>563.5</td>\n",
       "      <td>318.5</td>\n",
       "      <td>122.50</td>\n",
       "      <td>7.0</td>\n",
       "      <td>2</td>\n",
       "      <td>0.0</td>\n",
       "      <td>0</td>\n",
       "    </tr>\n",
       "  </tbody>\n",
       "</table>\n",
       "</div>"
      ],
      "text/plain": [
       "     X1     X2     X3      X4   X5  X6   X7  X8\n",
       "0  0.98  514.5  294.0  110.25  7.0   2  0.0   0\n",
       "1  0.98  514.5  294.0  110.25  7.0   3  0.0   0\n",
       "2  0.98  514.5  294.0  110.25  7.0   4  0.0   0\n",
       "3  0.98  514.5  294.0  110.25  7.0   5  0.0   0\n",
       "4  0.90  563.5  318.5  122.50  7.0   2  0.0   0"
      ]
     },
     "execution_count": 33,
     "metadata": {},
     "output_type": "execute_result"
    }
   ],
   "source": [
    "X.head(5)"
   ]
  },
  {
   "cell_type": "code",
   "execution_count": null,
   "metadata": {},
   "outputs": [],
   "source": []
  }
 ],
 "metadata": {
  "kernelspec": {
   "display_name": "Python 3",
   "language": "python",
   "name": "python3"
  },
  "language_info": {
   "codemirror_mode": {
    "name": "ipython",
    "version": 3
   },
   "file_extension": ".py",
   "mimetype": "text/x-python",
   "name": "python",
   "nbconvert_exporter": "python",
   "pygments_lexer": "ipython3",
   "version": "3.8.5"
  }
 },
 "nbformat": 4,
 "nbformat_minor": 4
}
